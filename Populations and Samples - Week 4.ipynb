{
 "cells": [
  {
   "cell_type": "code",
   "execution_count": 2,
   "metadata": {},
   "outputs": [
    {
     "name": "stdout",
     "output_type": "stream",
     "text": [
      "[ 98.9143694  100.99734545 100.2829785 ]\n",
      "[67 93 99 18 84 58 87 98 97 48]\n"
     ]
    }
   ],
   "source": [
    "# Populations and Samples - Week 4\n",
    "# import numpy as np\n",
    "import numpy as np\n",
    "# Set the seed for reproducibility\n",
    "np.random.seed(123)\n",
    "# Generate three normal random variables with mean 100 and standard deviation 1\n",
    "sample = np.random.normal(loc=100, scale=1, size=3)\n",
    "# Print the generated sample\n",
    "print(sample)\n",
    "# import numpy as np\n",
    "import numpy as np\n",
    "# Set the seed for reproducibility\n",
    "np.random.seed(123)\n",
    "# Create a vector called population with numbers 1 to 100\n",
    "population = np.arange(1, 101)\n",
    "# Generate a sample of length 10 from the population\n",
    "sample = np.random.choice(population, size=10)\n",
    "# Print the generated sample\n",
    "print(sample)"
   ]
  }
 ],
 "metadata": {
  "kernelspec": {
   "display_name": "llm_tests",
   "language": "python",
   "name": "python3"
  },
  "language_info": {
   "codemirror_mode": {
    "name": "ipython",
    "version": 3
   },
   "file_extension": ".py",
   "mimetype": "text/x-python",
   "name": "python",
   "nbconvert_exporter": "python",
   "pygments_lexer": "ipython3",
   "version": "3.11.9"
  }
 },
 "nbformat": 4,
 "nbformat_minor": 2
}
