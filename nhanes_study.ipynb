{
 "cells": [
  {
   "cell_type": "code",
   "execution_count": 10,
   "metadata": {},
   "outputs": [],
   "source": [
    "# !pip install pyreadstat"
   ]
  },
  {
   "cell_type": "markdown",
   "metadata": {},
   "source": [
    "# Study description"
   ]
  },
  {
   "cell_type": "markdown",
   "metadata": {},
   "source": [
    "\n",
    "**Study Objective and Scope**\n",
    "\n",
    "This study aims to assess how specific lifestyle and socioeconomic factors influence health, with a particular focus on blood pressure. Existing academic literature suggests that smoking, alcohol consumption, social isolation, obesity, and financial hardship contribute to an increased risk of hypertension. In this study, I hypothesize that individuals exposed to at least two of these three factors are likely to have elevated blood pressure.\n",
    "\n",
    "**Criteria for Risk Factors**\n",
    "\n",
    "For a factor to be considered detrimental, it must exceed the following predefined thresholds:\n",
    "\n",
    "- **Alcohol Consumption:** \"During the past 12 months, on days when you consumed alcohol, on average, how many drinks did you have?\" (Definition of a drink: 12 oz. beer, 5 oz. wine, or 1.5 oz. of liquor). Threshold: ≥ 3 drinks per occasion.\n",
    "- **Smoking:** \"Have you smoked at least 100 cigarettes in your lifetime?\" Threshold: Yes.\n",
    "- **Loneliness (Marital Status):** Threshold: Not married or not cohabiting with a partner.\n",
    "- **Financial Hardship (Economic Status):** Measured by the ratio of family income to poverty. Threshold: < 1.0.\n",
    "- **Overweight (Waist Circumference):** Threshold: Male > 94 cm; Female > 80 cm.\n",
    "- **High Blood Pressure:** Measured systolic blood pressure (SBP). Threshold: > 130 mm Hg.\n",
    "\n",
    "Males and females are studied separately.\n",
    "\n",
    "**Study Phases and Research Questions**\n",
    "\n",
    "The study consists of three phases, addressing the following research questions:\n",
    "\n",
    "1. **Prevalence of Risk Factors:** How many individuals in the sample population exceed the defined thresholds for these risk factors?\n",
    "2. **Age Group Comparisons:** Are there significant differences in the prevalence of these risk factors across various age groups? Age groups are defined as: under 18, 18–30, 30–40, 40–50, 50–60, 60–70, 70–80, and over 80 years.\n",
    "3. **Predictive Analysis:** Assuming that individuals exposed to at least two of the three risk factors have elevated blood pressure, how accurate is this assumption in the age group over 50? \n",
    "Calculate the following metrics: true positives (TP), true negatives (TN), false positives (FP), and false negatives (FN). Based on these, compute the error rate, accuracy, precision, and recall.\n",
    "- Error = (fp + fn) / N\n",
    "- Accuracy = (tp + tn) / N\n",
    "- Precision = tp / (tp + fp)\n",
    "- Recall = tp / (tp + fn)"
   ]
  },
  {
   "cell_type": "markdown",
   "metadata": {},
   "source": [
    "# Data description"
   ]
  },
  {
   "cell_type": "markdown",
   "metadata": {},
   "source": [
    "These names correspond to variables in the NHANES study.  For example, `SEQN` is a unique identifier for one person, and `BMXWT` is the subject's weight in kilograms (\"BMX\" is the NHANES prefix for body measurements).  The variables in the NHANES data set are documented in a set of \"codebooks\" that are available on-line.  The codebooks for the 2015-2016 wave of NHANES can be found by following the links at the following page:\n",
    "\n",
    "https://wwwn.cdc.gov/nchs/nhanes/continuousnhanes/default.aspx?BeginYear=2015\n",
    "\n",
    "For convenience, direct links to some of the code books are included below:\n",
    "\n",
    "* [Demographics code book](https://wwwn.cdc.gov/Nchs/Nhanes/2015-2016/DEMO_I.htm)\n",
    "    * RIAGENDR - Gender - included in the dataset\n",
    "    * RIDAGEYR - Age in years at screening - included in the dataset\n",
    "    * RIDRETH1 - Race/Hispanic origin - included in the dataset\n",
    "    * DMDCITZN - Citizenship status - included in the dataset\n",
    "    * DMDEDUC2 - Education level - included in the dataset\n",
    "    * DMDMARTL - Marital status - included in the dataset\n",
    "    * DMDHHSIZ - Total number of people in the Household - included in the dataset\n",
    "    * SDMVPSU - Masked variance pseudo-primary sampling unit - included in the dataset\n",
    "    * SDMVSTRA - Masked variance pseudo-stratum - included in the dataset\n",
    "    * INDFMPIR - Ratio of family income to poverty - included in the dataset\n",
    "    * HIQ210 - Income level - included in the dataset\n",
    "    * INDHHIN2 - Annual household income\n",
    "\n",
    "* [Body measures code book](https://wwwn.cdc.gov/Nchs/Nhanes/2015-2016/BMX_I.htm)\n",
    "    * BMXWT - Weight (kg) - included in the dataset\n",
    "    * BMXHT - Standing Height (cm) - included in the dataset\n",
    "    * BMXBMI - Body Mass Index (kg/m)^2 - included in the dataset\n",
    "    * BMXLEG - Leg Length (cm) - included in the dataset\n",
    "    * BMXARML - Arm Length (cm) - included in the dataset\n",
    "    * BMXARMC - Arm Circumference (cm) - included in the dataset\n",
    "    * BMXWAIST - Waist Circumference (cm) - included in the dataset\n",
    "    * WTINT2YR - Full sample 2 year interview weight - included in the dataset\n",
    "\n",
    "* [Blood pressure code book](https://wwwn.cdc.gov/Nchs/Nhanes/2015-2016/BPX_I.htm)\n",
    "    * BPXSY1 - Systolic: Blood pressure mm Hg - included in the dataset\n",
    "    * BPXSY2 - Systolic: Blood pressure mm Hg - included in the dataset\n",
    "    * BPXDI1 - Diastolic: Blood pressure mm Hg - included in the dataset\n",
    "    * BPXPLS - 60 sec. pulse (30 sec. pulse * 2) - included in the dataset\n",
    "\n",
    "* [Alcohol questionaire code book](https://wwwn.cdc.gov/Nchs/Nhanes/2015-2016/ALQ_I.htm)\n",
    "    * ALQ101 - Had at least 12 alcohol drinks/1 yr - included in the dataset\n",
    "    * ALQ110 - Drink alcohol in past 12 mos - included in the dataset\n",
    "    * ALQ130 - Ever have 4/5 or more drinks almost every day? - included in the dataset\n",
    "    * ALQ151 - How often drink alcohol over past 12 mos\n",
    "    * ALQ160 - How many days drink alcohol in past 30 days\n",
    "    * ALQ101 - Had at least 12 alcohol drinks/1 yr\n",
    "    * ALQ120Q - # alcohol drinks/day, past 12 mos\n",
    "    * ALQ120U - Alcohol drinks/day, past 12 mos\n",
    "    * ALQ130 - Ever have 4/5 or more drinks almost every day?\n",
    "    * ALQ141Q - # alcohol drinks/day, past 30 days\n",
    "    * ALQ160 - # days have 4/5 or more drinks in 2 hrs\n",
    "\n",
    "* [Smoking questionaire code book](https://wwwn.cdc.gov/Nchs/Nhanes/2015-2016/SMQ_I.htm)\n",
    "    * SMQ020 - Smoking status - included in the dataset\n",
    "    * SMQ040 - # cigarettes/day\n",
    "    * SMQ050Q - # years smoked\n",
    "\n",
    "* [Drug use questionaire code book](https://wwwn.cdc.gov/Nchs/Nhanes/2015-2016/DUQ_I.htm)\n",
    "    * DUQ211 - Used marijuana every month for a year?\n",
    "    * DUQ230 - Used cocaine every month for a year?\n",
    "    * DUQ240 - Used heroin every month for a year?\n",
    "    * DUQ250 - Used methamphetamine every month for a year?\n",
    "\n",
    "* [Dietary recall questionaire code book](https://wwwn.cdc.gov/Nchs/Nhanes/2015-2016/DR1TOT_I.htm)\n",
    "    * DRQSDT1 - Weight loss/Low calorie diet\n",
    "    * DRQSDT9 - Low carbohydrate diet\n",
    "\n",
    "* [Physical activity questionaire code book](https://wwwn.cdc.gov/Nchs/Nhanes/2015-2016/PAQ_I.htm)\n",
    "    * PAQ706 - Days physically active at least 60 min.\n",
    "    * PAQ715 - Hours watch TV or videos past 30 days\n",
    "    * PAQ722 - Hours use computer past 30 days\n",
    "\n",
    "* [Sleep disorders questionaire code book](https://wwwn.cdc.gov/Nchs/Nhanes/2015-2016/SLQ_I.htm)\n",
    "\n",
    "* [Cardiovascular health code book](https://wwwn.cdc.gov/Nchs/Nhanes/2015-2016/CV_I.htm)\n",
    "\n",
    "* [Diabetes code book](https://wwwn.cdc.gov/Nchs/Nhanes/2015-2016/DIQ_I.htm)"
   ]
  },
  {
   "cell_type": "markdown",
   "metadata": {},
   "source": [
    "# Data retrieval"
   ]
  },
  {
   "cell_type": "code",
   "execution_count": 11,
   "metadata": {},
   "outputs": [],
   "source": [
    "%matplotlib inline\n",
    "import matplotlib.pyplot as plt\n",
    "import seaborn as sns\n",
    "from scipy import stats\n",
    "# import pyreadstat\n",
    "import os\n",
    "import pandas as pd\n",
    "import numpy as np\n",
    "# Read the data from the URL\n",
    "# url = 'nhanes-2015-2016.XPT'\n",
    "# da, meta = pyreadstat.read_xport(url)\n",
    "# print(meta)"
   ]
  },
  {
   "cell_type": "code",
   "execution_count": 12,
   "metadata": {},
   "outputs": [],
   "source": [
    "pd.set_option('future.no_silent_downcasting', True)"
   ]
  },
  {
   "cell_type": "code",
   "execution_count": 13,
   "metadata": {},
   "outputs": [],
   "source": [
    "da = pd.read_csv('nhanes_2015_2016.csv')"
   ]
  },
  {
   "cell_type": "code",
   "execution_count": 14,
   "metadata": {},
   "outputs": [
    {
     "name": "stdout",
     "output_type": "stream",
     "text": [
      "(5735, 28)\n",
      "(4837, 28)\n"
     ]
    }
   ],
   "source": [
    "print(da.shape)\n",
    "da = da.dropna(subset=[\"BMXWAIST\"])\n",
    "da = da.dropna(subset=[\"RIAGENDR\"])\n",
    "da = da.dropna(subset=[\"INDFMPIR\"])\n",
    "# da = da.dropna(subset=[\"ALQ130\"])\n",
    "print(da.shape)"
   ]
  },
  {
   "cell_type": "code",
   "execution_count": 15,
   "metadata": {},
   "outputs": [],
   "source": [
    "# Defining age groups\n",
    "da[\"agegrp\"] = pd.cut(da.RIDAGEYR, [18, 30, 40, 50, 60, 70, 80]) # Create age strata based on these cut points"
   ]
  },
  {
   "cell_type": "code",
   "execution_count": 16,
   "metadata": {},
   "outputs": [],
   "source": [
    "# Gender\n",
    "da[\"gender\"] = da.RIAGENDR.replace({1: \"Male\", 2: \"Female\"})\n",
    "female = da['gender'] == 'Female'\n",
    "male = da['gender'] == 'Male'"
   ]
  },
  {
   "cell_type": "markdown",
   "metadata": {},
   "source": [
    "# Prevalence of Risk Factors"
   ]
  },
  {
   "cell_type": "markdown",
   "metadata": {},
   "source": [
    "## Blood pressute status of the population"
   ]
  },
  {
   "cell_type": "code",
   "execution_count": 17,
   "metadata": {},
   "outputs": [
    {
     "name": "stdout",
     "output_type": "stream",
     "text": [
      "count    4609.000000\n",
      "mean      124.469516\n",
      "std        18.018075\n",
      "min        82.000000\n",
      "25%       112.000000\n",
      "50%       122.000000\n",
      "75%       134.000000\n",
      "max       236.000000\n",
      "Name: BPXSY1, dtype: float64\n"
     ]
    }
   ],
   "source": [
    "# Blood pressute status of the population\n",
    "print(da.BPXSY1.describe())\n",
    "da[\"bloodpressure\"] = pd.cut(da.BPXSY1, [80, 120, 130, 160, 240]) # Create age strata based on these cut points\n",
    "low = da[\"BPXSY1\"] <= 120\n",
    "normal = (da[\"BPXSY1\"] > 120) & (da[\"BPXSY1\"] <= 130)\n",
    "high = (da[\"BPXSY1\"] > 130) & (da[\"BPXSY1\"] <= 160)\n",
    "very_high = da[\"BPXSY1\"] > 160\n",
    "elevated = high | very_high\n",
    "da[\"elevated_bloodpr\"] = np.where(elevated, True, False)\n",
    "# da[\"bloodpressure\"].value_counts().sort_index()"
   ]
  },
  {
   "cell_type": "code",
   "execution_count": 18,
   "metadata": {},
   "outputs": [
    {
     "name": "stdout",
     "output_type": "stream",
     "text": [
      "Measured systolic blood pressure (SBP). Threshold: > 130 mm Hg.\n"
     ]
    },
    {
     "data": {
      "text/html": [
       "<div>\n",
       "<style scoped>\n",
       "    .dataframe tbody tr th:only-of-type {\n",
       "        vertical-align: middle;\n",
       "    }\n",
       "\n",
       "    .dataframe tbody tr th {\n",
       "        vertical-align: top;\n",
       "    }\n",
       "\n",
       "    .dataframe thead th {\n",
       "        text-align: right;\n",
       "    }\n",
       "</style>\n",
       "<table border=\"1\" class=\"dataframe\">\n",
       "  <thead>\n",
       "    <tr style=\"text-align: right;\">\n",
       "      <th></th>\n",
       "      <th>agegrp</th>\n",
       "      <th>gender</th>\n",
       "      <th>elevated_bloodpr</th>\n",
       "      <th>shared-%</th>\n",
       "    </tr>\n",
       "  </thead>\n",
       "  <tbody>\n",
       "    <tr>\n",
       "      <th>0</th>\n",
       "      <td>(18, 30]</td>\n",
       "      <td>Female</td>\n",
       "      <td>False</td>\n",
       "      <td>96.768061</td>\n",
       "    </tr>\n",
       "    <tr>\n",
       "      <th>1</th>\n",
       "      <td>(18, 30]</td>\n",
       "      <td>Female</td>\n",
       "      <td>True</td>\n",
       "      <td>3.231939</td>\n",
       "    </tr>\n",
       "    <tr>\n",
       "      <th>2</th>\n",
       "      <td>(18, 30]</td>\n",
       "      <td>Male</td>\n",
       "      <td>False</td>\n",
       "      <td>88.075314</td>\n",
       "    </tr>\n",
       "    <tr>\n",
       "      <th>3</th>\n",
       "      <td>(18, 30]</td>\n",
       "      <td>Male</td>\n",
       "      <td>True</td>\n",
       "      <td>11.924686</td>\n",
       "    </tr>\n",
       "    <tr>\n",
       "      <th>4</th>\n",
       "      <td>(30, 40]</td>\n",
       "      <td>Female</td>\n",
       "      <td>False</td>\n",
       "      <td>91.176471</td>\n",
       "    </tr>\n",
       "  </tbody>\n",
       "</table>\n",
       "</div>"
      ],
      "text/plain": [
       "     agegrp  gender  elevated_bloodpr   shared-%\n",
       "0  (18, 30]  Female             False  96.768061\n",
       "1  (18, 30]  Female              True   3.231939\n",
       "2  (18, 30]    Male             False  88.075314\n",
       "3  (18, 30]    Male              True  11.924686\n",
       "4  (30, 40]  Female             False  91.176471"
      ]
     },
     "execution_count": 18,
     "metadata": {},
     "output_type": "execute_result"
    }
   ],
   "source": [
    "z = da.loc[:, ['SEQN','gender', 'bloodpressure','elevated_bloodpr', 'agegrp']].groupby(['agegrp', 'gender', 'elevated_bloodpr'], observed=True)['agegrp'].count()\n",
    "z = z.groupby(level=[0, 1], observed=True).transform(lambda g: g / g.sum() * 100).reset_index(name='shared-%')\n",
    "print(\"Measured systolic blood pressure (SBP). Threshold: > 130 mm Hg.\")\n",
    "# zz = z.reset_index(name='shared-%')\n",
    "# zz = z.query('bloodpressure == (160, 240)').groupby(['agegrp', 'gender'], observed=True)['shared-%'].sum().reset_index(name='shared-%')\n",
    "z.head()"
   ]
  },
  {
   "cell_type": "code",
   "execution_count": 19,
   "metadata": {},
   "outputs": [
    {
     "data": {
      "text/html": [
       "<style type=\"text/css\">\n",
       "#T_f8231_row0_col0, #T_f8231_row0_col1, #T_f8231_row0_col2, #T_f8231_row0_col3, #T_f8231_row2_col0, #T_f8231_row2_col1, #T_f8231_row2_col2, #T_f8231_row2_col3, #T_f8231_row4_col0, #T_f8231_row4_col1, #T_f8231_row4_col2, #T_f8231_row4_col3, #T_f8231_row6_col0, #T_f8231_row6_col1, #T_f8231_row6_col2, #T_f8231_row6_col3, #T_f8231_row8_col0, #T_f8231_row8_col1, #T_f8231_row8_col2, #T_f8231_row8_col3, #T_f8231_row10_col0, #T_f8231_row10_col1, #T_f8231_row10_col2, #T_f8231_row10_col3, #T_f8231_row12_col0, #T_f8231_row12_col1, #T_f8231_row12_col2, #T_f8231_row12_col3, #T_f8231_row14_col0, #T_f8231_row14_col1, #T_f8231_row14_col2, #T_f8231_row14_col3, #T_f8231_row16_col0, #T_f8231_row16_col1, #T_f8231_row16_col2, #T_f8231_row16_col3, #T_f8231_row18_col0, #T_f8231_row18_col1, #T_f8231_row18_col2, #T_f8231_row18_col3, #T_f8231_row20_col0, #T_f8231_row20_col1, #T_f8231_row20_col2, #T_f8231_row20_col3, #T_f8231_row22_col0, #T_f8231_row22_col1, #T_f8231_row22_col2, #T_f8231_row22_col3 {\n",
       "  background-color: green;\n",
       "}\n",
       "#T_f8231_row1_col0, #T_f8231_row1_col1, #T_f8231_row1_col2, #T_f8231_row1_col3, #T_f8231_row3_col0, #T_f8231_row3_col1, #T_f8231_row3_col2, #T_f8231_row3_col3, #T_f8231_row5_col0, #T_f8231_row5_col1, #T_f8231_row5_col2, #T_f8231_row5_col3, #T_f8231_row7_col0, #T_f8231_row7_col1, #T_f8231_row7_col2, #T_f8231_row7_col3, #T_f8231_row9_col0, #T_f8231_row9_col1, #T_f8231_row9_col2, #T_f8231_row9_col3, #T_f8231_row11_col0, #T_f8231_row11_col1, #T_f8231_row11_col2, #T_f8231_row11_col3, #T_f8231_row13_col0, #T_f8231_row13_col1, #T_f8231_row13_col2, #T_f8231_row13_col3, #T_f8231_row15_col0, #T_f8231_row15_col1, #T_f8231_row15_col2, #T_f8231_row15_col3, #T_f8231_row17_col0, #T_f8231_row17_col1, #T_f8231_row17_col2, #T_f8231_row17_col3, #T_f8231_row19_col0, #T_f8231_row19_col1, #T_f8231_row19_col2, #T_f8231_row19_col3, #T_f8231_row21_col0, #T_f8231_row21_col1, #T_f8231_row21_col2, #T_f8231_row21_col3, #T_f8231_row23_col0, #T_f8231_row23_col1, #T_f8231_row23_col2, #T_f8231_row23_col3 {\n",
       "  background-color: red;\n",
       "}\n",
       "</style>\n",
       "<table id=\"T_f8231\">\n",
       "  <thead>\n",
       "    <tr>\n",
       "      <th class=\"blank level0\" >&nbsp;</th>\n",
       "      <th id=\"T_f8231_level0_col0\" class=\"col_heading level0 col0\" >agegrp</th>\n",
       "      <th id=\"T_f8231_level0_col1\" class=\"col_heading level0 col1\" >gender</th>\n",
       "      <th id=\"T_f8231_level0_col2\" class=\"col_heading level0 col2\" >elevated_bloodpr</th>\n",
       "      <th id=\"T_f8231_level0_col3\" class=\"col_heading level0 col3\" >shared-%</th>\n",
       "    </tr>\n",
       "  </thead>\n",
       "  <tbody>\n",
       "    <tr>\n",
       "      <th id=\"T_f8231_level0_row0\" class=\"row_heading level0 row0\" >0</th>\n",
       "      <td id=\"T_f8231_row0_col0\" class=\"data row0 col0\" >(18, 30]</td>\n",
       "      <td id=\"T_f8231_row0_col1\" class=\"data row0 col1\" >Female</td>\n",
       "      <td id=\"T_f8231_row0_col2\" class=\"data row0 col2\" >False</td>\n",
       "      <td id=\"T_f8231_row0_col3\" class=\"data row0 col3\" >96.768061</td>\n",
       "    </tr>\n",
       "    <tr>\n",
       "      <th id=\"T_f8231_level0_row1\" class=\"row_heading level0 row1\" >1</th>\n",
       "      <td id=\"T_f8231_row1_col0\" class=\"data row1 col0\" >(18, 30]</td>\n",
       "      <td id=\"T_f8231_row1_col1\" class=\"data row1 col1\" >Female</td>\n",
       "      <td id=\"T_f8231_row1_col2\" class=\"data row1 col2\" >True</td>\n",
       "      <td id=\"T_f8231_row1_col3\" class=\"data row1 col3\" >3.231939</td>\n",
       "    </tr>\n",
       "    <tr>\n",
       "      <th id=\"T_f8231_level0_row2\" class=\"row_heading level0 row2\" >2</th>\n",
       "      <td id=\"T_f8231_row2_col0\" class=\"data row2 col0\" >(18, 30]</td>\n",
       "      <td id=\"T_f8231_row2_col1\" class=\"data row2 col1\" >Male</td>\n",
       "      <td id=\"T_f8231_row2_col2\" class=\"data row2 col2\" >False</td>\n",
       "      <td id=\"T_f8231_row2_col3\" class=\"data row2 col3\" >88.075314</td>\n",
       "    </tr>\n",
       "    <tr>\n",
       "      <th id=\"T_f8231_level0_row3\" class=\"row_heading level0 row3\" >3</th>\n",
       "      <td id=\"T_f8231_row3_col0\" class=\"data row3 col0\" >(18, 30]</td>\n",
       "      <td id=\"T_f8231_row3_col1\" class=\"data row3 col1\" >Male</td>\n",
       "      <td id=\"T_f8231_row3_col2\" class=\"data row3 col2\" >True</td>\n",
       "      <td id=\"T_f8231_row3_col3\" class=\"data row3 col3\" >11.924686</td>\n",
       "    </tr>\n",
       "    <tr>\n",
       "      <th id=\"T_f8231_level0_row4\" class=\"row_heading level0 row4\" >4</th>\n",
       "      <td id=\"T_f8231_row4_col0\" class=\"data row4 col0\" >(30, 40]</td>\n",
       "      <td id=\"T_f8231_row4_col1\" class=\"data row4 col1\" >Female</td>\n",
       "      <td id=\"T_f8231_row4_col2\" class=\"data row4 col2\" >False</td>\n",
       "      <td id=\"T_f8231_row4_col3\" class=\"data row4 col3\" >91.176471</td>\n",
       "    </tr>\n",
       "    <tr>\n",
       "      <th id=\"T_f8231_level0_row5\" class=\"row_heading level0 row5\" >5</th>\n",
       "      <td id=\"T_f8231_row5_col0\" class=\"data row5 col0\" >(30, 40]</td>\n",
       "      <td id=\"T_f8231_row5_col1\" class=\"data row5 col1\" >Female</td>\n",
       "      <td id=\"T_f8231_row5_col2\" class=\"data row5 col2\" >True</td>\n",
       "      <td id=\"T_f8231_row5_col3\" class=\"data row5 col3\" >8.823529</td>\n",
       "    </tr>\n",
       "    <tr>\n",
       "      <th id=\"T_f8231_level0_row6\" class=\"row_heading level0 row6\" >6</th>\n",
       "      <td id=\"T_f8231_row6_col0\" class=\"data row6 col0\" >(30, 40]</td>\n",
       "      <td id=\"T_f8231_row6_col1\" class=\"data row6 col1\" >Male</td>\n",
       "      <td id=\"T_f8231_row6_col2\" class=\"data row6 col2\" >False</td>\n",
       "      <td id=\"T_f8231_row6_col3\" class=\"data row6 col3\" >79.591837</td>\n",
       "    </tr>\n",
       "    <tr>\n",
       "      <th id=\"T_f8231_level0_row7\" class=\"row_heading level0 row7\" >7</th>\n",
       "      <td id=\"T_f8231_row7_col0\" class=\"data row7 col0\" >(30, 40]</td>\n",
       "      <td id=\"T_f8231_row7_col1\" class=\"data row7 col1\" >Male</td>\n",
       "      <td id=\"T_f8231_row7_col2\" class=\"data row7 col2\" >True</td>\n",
       "      <td id=\"T_f8231_row7_col3\" class=\"data row7 col3\" >20.408163</td>\n",
       "    </tr>\n",
       "    <tr>\n",
       "      <th id=\"T_f8231_level0_row8\" class=\"row_heading level0 row8\" >8</th>\n",
       "      <td id=\"T_f8231_row8_col0\" class=\"data row8 col0\" >(40, 50]</td>\n",
       "      <td id=\"T_f8231_row8_col1\" class=\"data row8 col1\" >Female</td>\n",
       "      <td id=\"T_f8231_row8_col2\" class=\"data row8 col2\" >False</td>\n",
       "      <td id=\"T_f8231_row8_col3\" class=\"data row8 col3\" >77.751756</td>\n",
       "    </tr>\n",
       "    <tr>\n",
       "      <th id=\"T_f8231_level0_row9\" class=\"row_heading level0 row9\" >9</th>\n",
       "      <td id=\"T_f8231_row9_col0\" class=\"data row9 col0\" >(40, 50]</td>\n",
       "      <td id=\"T_f8231_row9_col1\" class=\"data row9 col1\" >Female</td>\n",
       "      <td id=\"T_f8231_row9_col2\" class=\"data row9 col2\" >True</td>\n",
       "      <td id=\"T_f8231_row9_col3\" class=\"data row9 col3\" >22.248244</td>\n",
       "    </tr>\n",
       "    <tr>\n",
       "      <th id=\"T_f8231_level0_row10\" class=\"row_heading level0 row10\" >10</th>\n",
       "      <td id=\"T_f8231_row10_col0\" class=\"data row10 col0\" >(40, 50]</td>\n",
       "      <td id=\"T_f8231_row10_col1\" class=\"data row10 col1\" >Male</td>\n",
       "      <td id=\"T_f8231_row10_col2\" class=\"data row10 col2\" >False</td>\n",
       "      <td id=\"T_f8231_row10_col3\" class=\"data row10 col3\" >68.802228</td>\n",
       "    </tr>\n",
       "    <tr>\n",
       "      <th id=\"T_f8231_level0_row11\" class=\"row_heading level0 row11\" >11</th>\n",
       "      <td id=\"T_f8231_row11_col0\" class=\"data row11 col0\" >(40, 50]</td>\n",
       "      <td id=\"T_f8231_row11_col1\" class=\"data row11 col1\" >Male</td>\n",
       "      <td id=\"T_f8231_row11_col2\" class=\"data row11 col2\" >True</td>\n",
       "      <td id=\"T_f8231_row11_col3\" class=\"data row11 col3\" >31.197772</td>\n",
       "    </tr>\n",
       "    <tr>\n",
       "      <th id=\"T_f8231_level0_row12\" class=\"row_heading level0 row12\" >12</th>\n",
       "      <td id=\"T_f8231_row12_col0\" class=\"data row12 col0\" >(50, 60]</td>\n",
       "      <td id=\"T_f8231_row12_col1\" class=\"data row12 col1\" >Female</td>\n",
       "      <td id=\"T_f8231_row12_col2\" class=\"data row12 col2\" >False</td>\n",
       "      <td id=\"T_f8231_row12_col3\" class=\"data row12 col3\" >63.990268</td>\n",
       "    </tr>\n",
       "    <tr>\n",
       "      <th id=\"T_f8231_level0_row13\" class=\"row_heading level0 row13\" >13</th>\n",
       "      <td id=\"T_f8231_row13_col0\" class=\"data row13 col0\" >(50, 60]</td>\n",
       "      <td id=\"T_f8231_row13_col1\" class=\"data row13 col1\" >Female</td>\n",
       "      <td id=\"T_f8231_row13_col2\" class=\"data row13 col2\" >True</td>\n",
       "      <td id=\"T_f8231_row13_col3\" class=\"data row13 col3\" >36.009732</td>\n",
       "    </tr>\n",
       "    <tr>\n",
       "      <th id=\"T_f8231_level0_row14\" class=\"row_heading level0 row14\" >14</th>\n",
       "      <td id=\"T_f8231_row14_col0\" class=\"data row14 col0\" >(50, 60]</td>\n",
       "      <td id=\"T_f8231_row14_col1\" class=\"data row14 col1\" >Male</td>\n",
       "      <td id=\"T_f8231_row14_col2\" class=\"data row14 col2\" >False</td>\n",
       "      <td id=\"T_f8231_row14_col3\" class=\"data row14 col3\" >66.410256</td>\n",
       "    </tr>\n",
       "    <tr>\n",
       "      <th id=\"T_f8231_level0_row15\" class=\"row_heading level0 row15\" >15</th>\n",
       "      <td id=\"T_f8231_row15_col0\" class=\"data row15 col0\" >(50, 60]</td>\n",
       "      <td id=\"T_f8231_row15_col1\" class=\"data row15 col1\" >Male</td>\n",
       "      <td id=\"T_f8231_row15_col2\" class=\"data row15 col2\" >True</td>\n",
       "      <td id=\"T_f8231_row15_col3\" class=\"data row15 col3\" >33.589744</td>\n",
       "    </tr>\n",
       "    <tr>\n",
       "      <th id=\"T_f8231_level0_row16\" class=\"row_heading level0 row16\" >16</th>\n",
       "      <td id=\"T_f8231_row16_col0\" class=\"data row16 col0\" >(60, 70]</td>\n",
       "      <td id=\"T_f8231_row16_col1\" class=\"data row16 col1\" >Female</td>\n",
       "      <td id=\"T_f8231_row16_col2\" class=\"data row16 col2\" >False</td>\n",
       "      <td id=\"T_f8231_row16_col3\" class=\"data row16 col3\" >55.978261</td>\n",
       "    </tr>\n",
       "    <tr>\n",
       "      <th id=\"T_f8231_level0_row17\" class=\"row_heading level0 row17\" >17</th>\n",
       "      <td id=\"T_f8231_row17_col0\" class=\"data row17 col0\" >(60, 70]</td>\n",
       "      <td id=\"T_f8231_row17_col1\" class=\"data row17 col1\" >Female</td>\n",
       "      <td id=\"T_f8231_row17_col2\" class=\"data row17 col2\" >True</td>\n",
       "      <td id=\"T_f8231_row17_col3\" class=\"data row17 col3\" >44.021739</td>\n",
       "    </tr>\n",
       "    <tr>\n",
       "      <th id=\"T_f8231_level0_row18\" class=\"row_heading level0 row18\" >18</th>\n",
       "      <td id=\"T_f8231_row18_col0\" class=\"data row18 col0\" >(60, 70]</td>\n",
       "      <td id=\"T_f8231_row18_col1\" class=\"data row18 col1\" >Male</td>\n",
       "      <td id=\"T_f8231_row18_col2\" class=\"data row18 col2\" >False</td>\n",
       "      <td id=\"T_f8231_row18_col3\" class=\"data row18 col3\" >49.061662</td>\n",
       "    </tr>\n",
       "    <tr>\n",
       "      <th id=\"T_f8231_level0_row19\" class=\"row_heading level0 row19\" >19</th>\n",
       "      <td id=\"T_f8231_row19_col0\" class=\"data row19 col0\" >(60, 70]</td>\n",
       "      <td id=\"T_f8231_row19_col1\" class=\"data row19 col1\" >Male</td>\n",
       "      <td id=\"T_f8231_row19_col2\" class=\"data row19 col2\" >True</td>\n",
       "      <td id=\"T_f8231_row19_col3\" class=\"data row19 col3\" >50.938338</td>\n",
       "    </tr>\n",
       "    <tr>\n",
       "      <th id=\"T_f8231_level0_row20\" class=\"row_heading level0 row20\" >20</th>\n",
       "      <td id=\"T_f8231_row20_col0\" class=\"data row20 col0\" >(70, 80]</td>\n",
       "      <td id=\"T_f8231_row20_col1\" class=\"data row20 col1\" >Female</td>\n",
       "      <td id=\"T_f8231_row20_col2\" class=\"data row20 col2\" >False</td>\n",
       "      <td id=\"T_f8231_row20_col3\" class=\"data row20 col3\" >39.510490</td>\n",
       "    </tr>\n",
       "    <tr>\n",
       "      <th id=\"T_f8231_level0_row21\" class=\"row_heading level0 row21\" >21</th>\n",
       "      <td id=\"T_f8231_row21_col0\" class=\"data row21 col0\" >(70, 80]</td>\n",
       "      <td id=\"T_f8231_row21_col1\" class=\"data row21 col1\" >Female</td>\n",
       "      <td id=\"T_f8231_row21_col2\" class=\"data row21 col2\" >True</td>\n",
       "      <td id=\"T_f8231_row21_col3\" class=\"data row21 col3\" >60.489510</td>\n",
       "    </tr>\n",
       "    <tr>\n",
       "      <th id=\"T_f8231_level0_row22\" class=\"row_heading level0 row22\" >22</th>\n",
       "      <td id=\"T_f8231_row22_col0\" class=\"data row22 col0\" >(70, 80]</td>\n",
       "      <td id=\"T_f8231_row22_col1\" class=\"data row22 col1\" >Male</td>\n",
       "      <td id=\"T_f8231_row22_col2\" class=\"data row22 col2\" >False</td>\n",
       "      <td id=\"T_f8231_row22_col3\" class=\"data row22 col3\" >48.051948</td>\n",
       "    </tr>\n",
       "    <tr>\n",
       "      <th id=\"T_f8231_level0_row23\" class=\"row_heading level0 row23\" >23</th>\n",
       "      <td id=\"T_f8231_row23_col0\" class=\"data row23 col0\" >(70, 80]</td>\n",
       "      <td id=\"T_f8231_row23_col1\" class=\"data row23 col1\" >Male</td>\n",
       "      <td id=\"T_f8231_row23_col2\" class=\"data row23 col2\" >True</td>\n",
       "      <td id=\"T_f8231_row23_col3\" class=\"data row23 col3\" >51.948052</td>\n",
       "    </tr>\n",
       "  </tbody>\n",
       "</table>\n"
      ],
      "text/plain": [
       "<pandas.io.formats.style.Styler at 0x110456310>"
      ]
     },
     "execution_count": 19,
     "metadata": {},
     "output_type": "execute_result"
    }
   ],
   "source": [
    "def highlight_rows(row):\n",
    "    if row['elevated_bloodpr']:\n",
    "        return ['background-color: red'] * len(row)\n",
    "    else:\n",
    "        return ['background-color: green'] * len(row)\n",
    "\n",
    "z.style.apply(highlight_rows, axis=1)"
   ]
  },
  {
   "cell_type": "code",
   "execution_count": 20,
   "metadata": {},
   "outputs": [
    {
     "name": "stdout",
     "output_type": "stream",
     "text": [
      "Measured systolic blood pressure (SBP). Threshold: > 130 mm Hg.\n"
     ]
    },
    {
     "data": {
      "text/html": [
       "<div>\n",
       "<style scoped>\n",
       "    .dataframe tbody tr th:only-of-type {\n",
       "        vertical-align: middle;\n",
       "    }\n",
       "\n",
       "    .dataframe tbody tr th {\n",
       "        vertical-align: top;\n",
       "    }\n",
       "\n",
       "    .dataframe thead th {\n",
       "        text-align: right;\n",
       "    }\n",
       "</style>\n",
       "<table border=\"1\" class=\"dataframe\">\n",
       "  <thead>\n",
       "    <tr style=\"text-align: right;\">\n",
       "      <th></th>\n",
       "      <th>agegrp</th>\n",
       "      <th>gender</th>\n",
       "      <th>elevated_bloodpr</th>\n",
       "      <th>shared-%</th>\n",
       "    </tr>\n",
       "  </thead>\n",
       "  <tbody>\n",
       "    <tr>\n",
       "      <th>0</th>\n",
       "      <td>(18, 30]</td>\n",
       "      <td>Female</td>\n",
       "      <td>False</td>\n",
       "      <td>96.768061</td>\n",
       "    </tr>\n",
       "    <tr>\n",
       "      <th>1</th>\n",
       "      <td>(18, 30]</td>\n",
       "      <td>Female</td>\n",
       "      <td>True</td>\n",
       "      <td>3.231939</td>\n",
       "    </tr>\n",
       "    <tr>\n",
       "      <th>2</th>\n",
       "      <td>(18, 30]</td>\n",
       "      <td>Male</td>\n",
       "      <td>False</td>\n",
       "      <td>88.075314</td>\n",
       "    </tr>\n",
       "    <tr>\n",
       "      <th>3</th>\n",
       "      <td>(18, 30]</td>\n",
       "      <td>Male</td>\n",
       "      <td>True</td>\n",
       "      <td>11.924686</td>\n",
       "    </tr>\n",
       "    <tr>\n",
       "      <th>4</th>\n",
       "      <td>(30, 40]</td>\n",
       "      <td>Female</td>\n",
       "      <td>False</td>\n",
       "      <td>91.176471</td>\n",
       "    </tr>\n",
       "  </tbody>\n",
       "</table>\n",
       "</div>"
      ],
      "text/plain": [
       "     agegrp  gender  elevated_bloodpr   shared-%\n",
       "0  (18, 30]  Female             False  96.768061\n",
       "1  (18, 30]  Female              True   3.231939\n",
       "2  (18, 30]    Male             False  88.075314\n",
       "3  (18, 30]    Male              True  11.924686\n",
       "4  (30, 40]  Female             False  91.176471"
      ]
     },
     "execution_count": 20,
     "metadata": {},
     "output_type": "execute_result"
    }
   ],
   "source": [
    "zz = da.loc[:, ['SEQN','gender', 'bloodpressure','elevated_bloodpr', 'agegrp']].groupby(['agegrp', 'gender', 'elevated_bloodpr'], observed=True)['agegrp'].count()\n",
    "zz = zz.groupby(level=[0, 1], observed=True).transform(lambda g: g / g.sum() * 100).reset_index(name='shared-%')\n",
    "print(\"Measured systolic blood pressure (SBP). Threshold: > 130 mm Hg.\")\n",
    "# zz = z.reset_index(name='shared-%')\n",
    "# zz = z.query('bloodpressure == (160, 240)').groupby(['agegrp', 'gender'], observed=True)['shared-%'].sum().reset_index(name='shared-%')\n",
    "zz.head()"
   ]
  },
  {
   "cell_type": "code",
   "execution_count": 21,
   "metadata": {},
   "outputs": [
    {
     "data": {
      "text/html": [
       "<div>\n",
       "<style scoped>\n",
       "    .dataframe tbody tr th:only-of-type {\n",
       "        vertical-align: middle;\n",
       "    }\n",
       "\n",
       "    .dataframe tbody tr th {\n",
       "        vertical-align: top;\n",
       "    }\n",
       "\n",
       "    .dataframe thead th {\n",
       "        text-align: right;\n",
       "    }\n",
       "</style>\n",
       "<table border=\"1\" class=\"dataframe\">\n",
       "  <thead>\n",
       "    <tr style=\"text-align: right;\">\n",
       "      <th></th>\n",
       "      <th>agegrp</th>\n",
       "      <th>gender</th>\n",
       "      <th>elevated_bloodpr</th>\n",
       "      <th>shared-%</th>\n",
       "    </tr>\n",
       "  </thead>\n",
       "  <tbody>\n",
       "    <tr>\n",
       "      <th>0</th>\n",
       "      <td>(18, 30]</td>\n",
       "      <td>Female</td>\n",
       "      <td>False</td>\n",
       "      <td>96.768061</td>\n",
       "    </tr>\n",
       "    <tr>\n",
       "      <th>1</th>\n",
       "      <td>(18, 30]</td>\n",
       "      <td>Female</td>\n",
       "      <td>True</td>\n",
       "      <td>3.231939</td>\n",
       "    </tr>\n",
       "    <tr>\n",
       "      <th>2</th>\n",
       "      <td>(18, 30]</td>\n",
       "      <td>Male</td>\n",
       "      <td>False</td>\n",
       "      <td>88.075314</td>\n",
       "    </tr>\n",
       "    <tr>\n",
       "      <th>3</th>\n",
       "      <td>(18, 30]</td>\n",
       "      <td>Male</td>\n",
       "      <td>True</td>\n",
       "      <td>11.924686</td>\n",
       "    </tr>\n",
       "    <tr>\n",
       "      <th>4</th>\n",
       "      <td>(30, 40]</td>\n",
       "      <td>Female</td>\n",
       "      <td>False</td>\n",
       "      <td>91.176471</td>\n",
       "    </tr>\n",
       "  </tbody>\n",
       "</table>\n",
       "</div>"
      ],
      "text/plain": [
       "     agegrp  gender  elevated_bloodpr   shared-%\n",
       "0  (18, 30]  Female             False  96.768061\n",
       "1  (18, 30]  Female              True   3.231939\n",
       "2  (18, 30]    Male             False  88.075314\n",
       "3  (18, 30]    Male              True  11.924686\n",
       "4  (30, 40]  Female             False  91.176471"
      ]
     },
     "execution_count": 21,
     "metadata": {},
     "output_type": "execute_result"
    }
   ],
   "source": [
    "z.head()"
   ]
  },
  {
   "cell_type": "code",
   "execution_count": 22,
   "metadata": {},
   "outputs": [
    {
     "data": {
      "image/png": "[encoded data removed]",
      "text/plain": [
       "<Figure size 640x480 with 1 Axes>"
      ]
     },
     "metadata": {},
     "output_type": "display_data"
    }
   ],
   "source": [
    "sns.barplot(data=z.query('elevated_bloodpr == True'), x=\"agegrp\", y=\"shared-%\", hue=\"gender\", palette=\"Set1\")\n",
    "plt.title(\"High blood pressure >130 by age group in the whole population\")\n",
    "plt.xlabel('Age group')\n",
    "plt.grid(True)"
   ]
  },
  {
   "cell_type": "markdown",
   "metadata": {},
   "source": [
    "## Smoking status of the population"
   ]
  },
  {
   "cell_type": "code",
   "execution_count": 24,
   "metadata": {},
   "outputs": [],
   "source": [
    "## Smoking status of the population"
   ]
  },
  {
   "cell_type": "code",
   "execution_count": 25,
   "metadata": {},
   "outputs": [
    {
     "name": "stdout",
     "output_type": "stream",
     "text": [
      "All citizens: 4837\n",
      "Smokers in the whole population: 40.81%\n"
     ]
    }
   ],
   "source": [
    "# Smoking status of the population\n",
    "# print(f'Any missing values is smoking: {da[da[\"SMQ020\"].isna() == True].shape[0]}')\n",
    "# We include only citizens that have answered the question about smoking Yes or No\n",
    "da[\"smoker\"] = da.SMQ020.replace({1: True, 2: False, 7: np.nan, 9: np.nan})\n",
    "print(f'All citizens: {da.shape[0]}')\n",
    "# da = da.dropna(subset=[\"smoker\"])\n",
    "print(f\"Smokers in the whole population: {100*(da.query('smoker == True').shape[0]/da.shape[0]):.2f}%\")"
   ]
  },
  {
   "cell_type": "code",
   "execution_count": 26,
   "metadata": {},
   "outputs": [
    {
     "name": "stdout",
     "output_type": "stream",
     "text": [
      "Have you smoked at least 100 cigarettes in your lifetime? Threshold: Yes.\n"
     ]
    }
   ],
   "source": [
    "# x = da.groupby(['agegrp', 'gender', 'smoker'], observed=True)['agegrp'].count()\n",
    "x = da.loc[:, ['SEQN','gender', 'elevated_bloodpr', 'smoker', 'agegrp']].groupby(['agegrp', 'gender', 'smoker'], observed=True)['agegrp'].count()\n",
    "x = x.groupby(level=[0, 1], observed=True).transform(lambda g: (g / g.sum() * 100).round(1))\n",
    "print(\"Have you smoked at least 100 cigarettes in your lifetime? Threshold: Yes.\")\n",
    "# x = x.reset_index(name='shared-%').query('smoker == True')\n",
    "x = x.reset_index(name='shared-%')\n",
    "# x.head(10)\n"
   ]
  },
  {
   "cell_type": "code",
   "execution_count": 27,
   "metadata": {},
   "outputs": [
    {
     "data": {
      "image/png": "[encoded data removed]",
      "text/plain": [
       "<Figure size 640x480 with 1 Axes>"
      ]
     },
     "metadata": {},
     "output_type": "display_data"
    }
   ],
   "source": [
    "# plt.figure(figsize=(10, 5))\n",
    "sns.barplot(data=x.query('smoker == True'), x=\"agegrp\", y=\"shared-%\", hue=\"gender\", palette=\"Set1\")\n",
    "plt.title(\"Smoked at least 100 cigarettes in the lifetime by age group\")\n",
    "plt.xlabel('Age group')\n",
    "plt.grid(True)"
   ]
  },
  {
   "cell_type": "code",
   "execution_count": 28,
   "metadata": {},
   "outputs": [
    {
     "name": "stdout",
     "output_type": "stream",
     "text": [
      "Have you smoked at least 100 cigarettes in your lifetime? Threshold: Yes.\n"
     ]
    }
   ],
   "source": [
    "# x = da.groupby(['agegrp', 'gender', 'smoker'], observed=True)['agegrp'].count()\n",
    "xp = da.loc[:, ['SEQN','gender', 'elevated_bloodpr', 'smoker', 'agegrp']].groupby(['agegrp', 'gender', 'elevated_bloodpr', 'smoker'], observed=True)['agegrp'].count()\n",
    "xp = xp.groupby(level=[0, 1, 2], observed=True).transform(lambda g: (g / g.sum() * 100).round(1))\n",
    "print(\"Have you smoked at least 100 cigarettes in your lifetime? Threshold: Yes.\")\n",
    "# x = x.reset_index(name='shared-%').query('smoker == True')\n",
    "xp = xp.reset_index(name='shared-%')\n",
    "# xp.head(10)"
   ]
  },
  {
   "cell_type": "code",
   "execution_count": 29,
   "metadata": {},
   "outputs": [
    {
     "data": {
      "image/png": "[encoded data removed]",
      "text/plain": [
       "<Figure size 1200x500 with 2 Axes>"
      ]
     },
     "metadata": {},
     "output_type": "display_data"
    }
   ],
   "source": [
    "fig, axes = plt.subplots(1, 2, figsize=(12, 5))\n",
    "\n",
    "# Plot for smokers\n",
    "sns.barplot(data=xp.query('elevated_bloodpr == True & gender == \"Male\"'), x=\"agegrp\", y=\"shared-%\", hue=\"smoker\", palette=\"Set1\", ax=axes[0])\n",
    "axes[0].set_title(\"Males: Elevated blood pressure >130\")\n",
    "axes[0].set_xlabel('Age group')\n",
    "axes[0].set_ylim(0, 80)\n",
    "axes[0].grid(True)\n",
    "\n",
    "# Plot for non-smokers\n",
    "sns.barplot(data=xp.query('elevated_bloodpr == True & gender == \"Female\"'), x=\"agegrp\", y=\"shared-%\", hue=\"smoker\", palette=\"Set1\", ax=axes[1])\n",
    "axes[1].set_title(\"Females: Elevated blood pressure >130\")\n",
    "axes[1].set_xlabel('Age group')\n",
    "axes[1].set_ylim(0, 80)\n",
    "axes[1].grid(True)\n",
    "\n",
    "plt.tight_layout()\n",
    "plt.show()"
   ]
  },
  {
   "cell_type": "markdown",
   "metadata": {},
   "source": [
    "## Observations pertaining to the distribution of the smoking status of the population"
   ]
  },
  {
   "cell_type": "code",
   "execution_count": 30,
   "metadata": {},
   "outputs": [
    {
     "name": "stdout",
     "output_type": "stream",
     "text": [
      "Observations pertaining to the distribution of the smoking status of the population\n",
      "Smokers in the whole population: 40.81%\n",
      "Does it mean men continue to smoke\n",
      "      and female do not smoke?\n"
     ]
    }
   ],
   "source": [
    "# Observations pertaining to the distribution of the smoking status of the population\n",
    "print(\"Observations pertaining to the distribution of the smoking status of the population\")\n",
    "print(f\"Smokers in the whole population: {100*(da.query('smoker == True').shape[0]/da.shape[0]):.2f}%\")\n",
    "print(\"\"\"Does it mean men continue to smoke\n",
    "      and female do not smoke?\"\"\")"
   ]
  },
  {
   "cell_type": "markdown",
   "metadata": {},
   "source": [
    "## Poverty status of the population"
   ]
  },
  {
   "cell_type": "code",
   "execution_count": 31,
   "metadata": {},
   "outputs": [],
   "source": [
    "da['INDFMPIR']= pd.to_numeric(da['INDFMPIR'], errors='coerce')"
   ]
  },
  {
   "cell_type": "code",
   "execution_count": 32,
   "metadata": {},
   "outputs": [
    {
     "name": "stdout",
     "output_type": "stream",
     "text": [
      "count    4837.000000\n",
      "mean        2.424244\n",
      "std         1.602838\n",
      "min         0.000000\n",
      "25%         1.070000\n",
      "50%         2.010000\n",
      "75%         3.770000\n",
      "max         5.000000\n",
      "Name: INDFMPIR, dtype: float64\n"
     ]
    }
   ],
   "source": [
    "\n",
    "print(da.INDFMPIR.describe())"
   ]
  },
  {
   "cell_type": "code",
   "execution_count": 57,
   "metadata": {},
   "outputs": [
    {
     "data": {
      "text/plain": [
       "<Figure size 1600x600 with 0 Axes>"
      ]
     },
     "metadata": {},
     "output_type": "display_data"
    },
    {
     "data": {
      "image/png": "[encoded data removed]",
      "text/plain": [
       "<Figure size 500x500 with 1 Axes>"
      ]
     },
     "metadata": {},
     "output_type": "display_data"
    }
   ],
   "source": [
    "plt.figure(figsize=(16, 6))  # Set the figure size, width=16, height=6\n",
    "sns.displot(da, x=\"INDFMPIR\", kde=True, bins=50)\n",
    "plt.title(\"Poverty Ratio\")\n",
    "plt.xlabel('The ratio of family income to poverty')\n",
    "plt.axvline(x = np.mean(da[\"INDFMPIR\"]), color=\"red\", label=f'Mean: {np.mean(da[\"INDFMPIR\"]):.2f}')\n",
    "plt.axvline(x = np.median(da[\"INDFMPIR\"]), color=\"orange\", label=f'Median: {np.median(da[\"INDFMPIR\"]):.2f}')\n",
    "plt.axvline(x = da[\"INDFMPIR\"].quantile(0.75), color=\"blue\", label=f'75% quantile: {da[\"INDFMPIR\"].quantile(0.75):.2f}')\n",
    "plt.axvline(x = da[\"INDFMPIR\"].quantile(0.25), color=\"green\", label=f'25% quantile: {da[\"INDFMPIR\"].quantile(0.25):.2f}')\n",
    "plt.legend()\n",
    "plt.grid(True)\n",
    "# plt.xlim([0, 5])\n",
    "plt.ylim([0, 1200])\n",
    "plt.show()"
   ]
  },
  {
   "cell_type": "code",
   "execution_count": 34,
   "metadata": {},
   "outputs": [],
   "source": [
    "# Poverty status of the population\n",
    "da[\"income_rate\"] = pd.cut(da.INDFMPIR, [0, 1, 2, 3, 4, 5]) # Create age strata based on these cut points\n",
    "poverty = da[\"INDFMPIR\"] <= 1\n",
    "not_poverty = da[\"INDFMPIR\"] > 1\n",
    "da[\"poor\"] = np.where(poverty, True, False)"
   ]
  },
  {
   "cell_type": "code",
   "execution_count": 35,
   "metadata": {},
   "outputs": [
    {
     "name": "stdout",
     "output_type": "stream",
     "text": [
      "Financial Hardship (Economic Status): Measured by the ratio of family income to poverty. Threshold: < 1.0.\n"
     ]
    }
   ],
   "source": [
    "y = da.loc[:, ['SEQN','gender', 'income_rate', 'agegrp']].groupby(['agegrp', 'gender', 'income_rate'], observed=True)['agegrp'].count()\n",
    "y = y.groupby(level=[0, 1], observed=True).transform(lambda g: g / g.sum() * 100)\n",
    "print(\"Financial Hardship (Economic Status): Measured by the ratio of family income to poverty. Threshold: < 1.0.\")\n",
    "y = y.reset_index(name='shared-%').query('income_rate == (0, 1)')\n",
    "# y"
   ]
  },
  {
   "cell_type": "code",
   "execution_count": 36,
   "metadata": {},
   "outputs": [
    {
     "data": {
      "image/png": "[encoded data removed]",
      "text/plain": [
       "<Figure size 640x480 with 1 Axes>"
      ]
     },
     "metadata": {},
     "output_type": "display_data"
    }
   ],
   "source": [
    "sns.barplot(data=y, x=\"agegrp\", y=\"shared-%\", hue=\"gender\", palette=\"Set1\")\n",
    "plt.title(\"Poor by age group\")\n",
    "plt.xlabel('Age group')\n",
    "plt.grid(True)"
   ]
  },
  {
   "cell_type": "markdown",
   "metadata": {},
   "source": [
    "## Observations pertaining to the distribution of the financial hardship status of the population"
   ]
  },
  {
   "cell_type": "code",
   "execution_count": 37,
   "metadata": {},
   "outputs": [],
   "source": [
    "# Observations pertaining to the distribution of the finacial hardship status of the population"
   ]
  },
  {
   "cell_type": "markdown",
   "metadata": {},
   "source": [
    "## Observations pertaining to the distribution of the blood pressure status of the population"
   ]
  },
  {
   "cell_type": "markdown",
   "metadata": {},
   "source": [
    "## Demographic status of the population"
   ]
  },
  {
   "cell_type": "code",
   "execution_count": 38,
   "metadata": {},
   "outputs": [],
   "source": [
    "# Demographic status of the population\n",
    "da[\"DMDMARTL\"] = da.DMDMARTL.fillna(0)\n",
    "da[\"marital_status\"] = da.DMDMARTL.replace({0: \"Missing\", 1: \"Married\", 2: \"Widowed\", 3: \"Divorced\", 4: \"Separated\", 5: \"Never married\", \n",
    "                                       6: \"Living with partner\", 77: \"Refused\", 99: \"Don't Know\"})\n",
    "target_group = da[\"RIDAGEYR\"] >= 40\n",
    "lonely = (da[\"DMDMARTL\"] == 0) | (da[\"DMDMARTL\"] == 1) | (da[\"DMDMARTL\"] == 6) | (da[\"DMDMARTL\"] == 77) | (da[\"DMDMARTL\"] == 99)\n",
    "da['lonely'] = np.where(lonely, False, True)\n",
    "da['target_group'] = np.where(target_group, True, False)"
   ]
  },
  {
   "cell_type": "markdown",
   "metadata": {},
   "source": [
    "## Overweight status of the population"
   ]
  },
  {
   "cell_type": "code",
   "execution_count": 39,
   "metadata": {},
   "outputs": [
    {
     "data": {
      "text/plain": [
       "overweight\n",
       "True    4837\n",
       "Name: count, dtype: int64"
      ]
     },
     "execution_count": 39,
     "metadata": {},
     "output_type": "execute_result"
    }
   ],
   "source": [
    "# Overweight status of the population\n",
    "da['BMXWAIST'] = da['BMXWAIST'].astype('float')\n",
    "normal = (da[\"BMXWAIST\"] <= 94 & male) | (da[\"BMXWAIST\"] <= 80 & female)\n",
    "overweight = ~normal\n",
    "da['overweight'] = np.where(normal, False, True)\n",
    "da[\"overweight\"].value_counts().sort_index()\n"
   ]
  },
  {
   "cell_type": "markdown",
   "metadata": {},
   "source": [
    "## Alcohol consuption status of the population"
   ]
  },
  {
   "cell_type": "code",
   "execution_count": 40,
   "metadata": {},
   "outputs": [
    {
     "data": {
      "text/plain": [
       "alcoprob\n",
       "False    3731\n",
       "True     1106\n",
       "Name: count, dtype: int64"
      ]
     },
     "execution_count": 40,
     "metadata": {},
     "output_type": "execute_result"
    }
   ],
   "source": [
    "# Alcohol consuption status of the population\n",
    "da['ALQ130'] = da['ALQ130'].astype('float')\n",
    "alcoproblem = (da['ALQ130'] >= 3) & (da['ALQ130'] < 100)\n",
    "da['alcoprob'] = np.where(alcoproblem, True, False)\n",
    "da[\"alcoprob\"].value_counts().sort_index()"
   ]
  },
  {
   "cell_type": "markdown",
   "metadata": {},
   "source": [
    "# Data table"
   ]
  },
  {
   "cell_type": "code",
   "execution_count": 41,
   "metadata": {},
   "outputs": [
    {
     "data": {
      "text/html": [
       "<div>\n",
       "<style scoped>\n",
       "    .dataframe tbody tr th:only-of-type {\n",
       "        vertical-align: middle;\n",
       "    }\n",
       "\n",
       "    .dataframe tbody tr th {\n",
       "        vertical-align: top;\n",
       "    }\n",
       "\n",
       "    .dataframe thead th {\n",
       "        text-align: right;\n",
       "    }\n",
       "</style>\n",
       "<table border=\"1\" class=\"dataframe\">\n",
       "  <thead>\n",
       "    <tr style=\"text-align: right;\">\n",
       "      <th></th>\n",
       "      <th>SEQN</th>\n",
       "      <th>gender</th>\n",
       "      <th>agegrp</th>\n",
       "      <th>marital_status</th>\n",
       "      <th>elevated_bloodpr</th>\n",
       "      <th>smoker</th>\n",
       "      <th>overweight</th>\n",
       "      <th>alcoprob</th>\n",
       "      <th>poor</th>\n",
       "      <th>lonely</th>\n",
       "      <th>target_group</th>\n",
       "    </tr>\n",
       "  </thead>\n",
       "  <tbody>\n",
       "    <tr>\n",
       "      <th>0</th>\n",
       "      <td>83732</td>\n",
       "      <td>Male</td>\n",
       "      <td>(60, 70]</td>\n",
       "      <td>Married</td>\n",
       "      <td>False</td>\n",
       "      <td>True</td>\n",
       "      <td>True</td>\n",
       "      <td>False</td>\n",
       "      <td>False</td>\n",
       "      <td>False</td>\n",
       "      <td>True</td>\n",
       "    </tr>\n",
       "    <tr>\n",
       "      <th>1</th>\n",
       "      <td>83733</td>\n",
       "      <td>Male</td>\n",
       "      <td>(50, 60]</td>\n",
       "      <td>Divorced</td>\n",
       "      <td>True</td>\n",
       "      <td>True</td>\n",
       "      <td>True</td>\n",
       "      <td>True</td>\n",
       "      <td>False</td>\n",
       "      <td>True</td>\n",
       "      <td>True</td>\n",
       "    </tr>\n",
       "    <tr>\n",
       "      <th>2</th>\n",
       "      <td>83734</td>\n",
       "      <td>Male</td>\n",
       "      <td>(70, 80]</td>\n",
       "      <td>Married</td>\n",
       "      <td>True</td>\n",
       "      <td>True</td>\n",
       "      <td>True</td>\n",
       "      <td>False</td>\n",
       "      <td>False</td>\n",
       "      <td>False</td>\n",
       "      <td>True</td>\n",
       "    </tr>\n",
       "    <tr>\n",
       "      <th>3</th>\n",
       "      <td>83735</td>\n",
       "      <td>Female</td>\n",
       "      <td>(50, 60]</td>\n",
       "      <td>Living with partner</td>\n",
       "      <td>True</td>\n",
       "      <td>False</td>\n",
       "      <td>True</td>\n",
       "      <td>False</td>\n",
       "      <td>False</td>\n",
       "      <td>False</td>\n",
       "      <td>True</td>\n",
       "    </tr>\n",
       "    <tr>\n",
       "      <th>4</th>\n",
       "      <td>83736</td>\n",
       "      <td>Female</td>\n",
       "      <td>(40, 50]</td>\n",
       "      <td>Divorced</td>\n",
       "      <td>False</td>\n",
       "      <td>False</td>\n",
       "      <td>True</td>\n",
       "      <td>False</td>\n",
       "      <td>False</td>\n",
       "      <td>True</td>\n",
       "      <td>True</td>\n",
       "    </tr>\n",
       "    <tr>\n",
       "      <th>5</th>\n",
       "      <td>83737</td>\n",
       "      <td>Female</td>\n",
       "      <td>(70, 80]</td>\n",
       "      <td>Separated</td>\n",
       "      <td>False</td>\n",
       "      <td>False</td>\n",
       "      <td>True</td>\n",
       "      <td>False</td>\n",
       "      <td>False</td>\n",
       "      <td>True</td>\n",
       "      <td>True</td>\n",
       "    </tr>\n",
       "    <tr>\n",
       "      <th>6</th>\n",
       "      <td>83741</td>\n",
       "      <td>Male</td>\n",
       "      <td>(18, 30]</td>\n",
       "      <td>Never married</td>\n",
       "      <td>False</td>\n",
       "      <td>True</td>\n",
       "      <td>True</td>\n",
       "      <td>True</td>\n",
       "      <td>False</td>\n",
       "      <td>True</td>\n",
       "      <td>False</td>\n",
       "    </tr>\n",
       "    <tr>\n",
       "      <th>7</th>\n",
       "      <td>83742</td>\n",
       "      <td>Female</td>\n",
       "      <td>(30, 40]</td>\n",
       "      <td>Married</td>\n",
       "      <td>False</td>\n",
       "      <td>False</td>\n",
       "      <td>True</td>\n",
       "      <td>False</td>\n",
       "      <td>False</td>\n",
       "      <td>False</td>\n",
       "      <td>False</td>\n",
       "    </tr>\n",
       "    <tr>\n",
       "      <th>9</th>\n",
       "      <td>83744</td>\n",
       "      <td>Male</td>\n",
       "      <td>(50, 60]</td>\n",
       "      <td>Divorced</td>\n",
       "      <td>True</td>\n",
       "      <td>False</td>\n",
       "      <td>True</td>\n",
       "      <td>False</td>\n",
       "      <td>False</td>\n",
       "      <td>True</td>\n",
       "      <td>True</td>\n",
       "    </tr>\n",
       "    <tr>\n",
       "      <th>10</th>\n",
       "      <td>83747</td>\n",
       "      <td>Male</td>\n",
       "      <td>(40, 50]</td>\n",
       "      <td>Living with partner</td>\n",
       "      <td>True</td>\n",
       "      <td>True</td>\n",
       "      <td>True</td>\n",
       "      <td>False</td>\n",
       "      <td>True</td>\n",
       "      <td>False</td>\n",
       "      <td>True</td>\n",
       "    </tr>\n",
       "  </tbody>\n",
       "</table>\n",
       "</div>"
      ],
      "text/plain": [
       "     SEQN  gender    agegrp       marital_status  elevated_bloodpr smoker  \\\n",
       "0   83732    Male  (60, 70]              Married             False   True   \n",
       "1   83733    Male  (50, 60]             Divorced              True   True   \n",
       "2   83734    Male  (70, 80]              Married              True   True   \n",
       "3   83735  Female  (50, 60]  Living with partner              True  False   \n",
       "4   83736  Female  (40, 50]             Divorced             False  False   \n",
       "5   83737  Female  (70, 80]            Separated             False  False   \n",
       "6   83741    Male  (18, 30]        Never married             False   True   \n",
       "7   83742  Female  (30, 40]              Married             False  False   \n",
       "9   83744    Male  (50, 60]             Divorced              True  False   \n",
       "10  83747    Male  (40, 50]  Living with partner              True   True   \n",
       "\n",
       "    overweight  alcoprob   poor  lonely  target_group  \n",
       "0         True     False  False   False          True  \n",
       "1         True      True  False    True          True  \n",
       "2         True     False  False   False          True  \n",
       "3         True     False  False   False          True  \n",
       "4         True     False  False    True          True  \n",
       "5         True     False  False    True          True  \n",
       "6         True      True  False    True         False  \n",
       "7         True     False  False   False         False  \n",
       "9         True     False  False    True          True  \n",
       "10        True     False   True   False          True  "
      ]
     },
     "execution_count": 41,
     "metadata": {},
     "output_type": "execute_result"
    }
   ],
   "source": [
    "df = da[[\"SEQN\", \"gender\", \"agegrp\", \"marital_status\", \"elevated_bloodpr\", \"smoker\", \"overweight\", \"alcoprob\", \"poor\", \"lonely\", \"target_group\"]].copy()\n",
    "df.head(10)"
   ]
  },
  {
   "cell_type": "code",
   "execution_count": 42,
   "metadata": {},
   "outputs": [],
   "source": [
    "# data[overweight].head()\n",
    "# data[poverty].head()\n",
    "# data[high | very_high].head()\n",
    "# data[alcoproblem].head()\n"
   ]
  },
  {
   "cell_type": "code",
   "execution_count": 43,
   "metadata": {},
   "outputs": [
    {
     "data": {
      "text/plain": [
       "<seaborn.axisgrid.FacetGrid at 0x13dd7b750>"
      ]
     },
     "execution_count": 43,
     "metadata": {},
     "output_type": "execute_result"
    },
    {
     "data": {
      "image/png": "[encoded data removed]",
      "text/plain": [
       "<Figure size 500x500 with 1 Axes>"
      ]
     },
     "metadata": {},
     "output_type": "display_data"
    }
   ],
   "source": [
    "sns.displot(da.BMXWAIST.dropna())"
   ]
  },
  {
   "cell_type": "code",
   "execution_count": 44,
   "metadata": {},
   "outputs": [],
   "source": [
    "# Age group distribution"
   ]
  },
  {
   "cell_type": "code",
   "execution_count": 45,
   "metadata": {},
   "outputs": [
    {
     "data": {
      "text/plain": [
       "Text(0, 0.5, 'Systolic: Blood pressure mm Hg')"
      ]
     },
     "execution_count": 45,
     "metadata": {},
     "output_type": "execute_result"
    },
    {
     "data": {
      "image/png": "[encoded data removed]",
      "text/plain": [
       "<Figure size 1200x500 with 1 Axes>"
      ]
     },
     "metadata": {},
     "output_type": "display_data"
    }
   ],
   "source": [
    "plt.figure(figsize=(12, 5))\n",
    "sns.boxplot(x=\"agegrp\", y=\"BPXSY1\", hue=\"gender\", data=da)\n",
    "plt.ylabel('Systolic: Blood pressure mm Hg')"
   ]
  },
  {
   "cell_type": "code",
   "execution_count": 46,
   "metadata": {},
   "outputs": [
    {
     "name": "stderr",
     "output_type": "stream",
     "text": [
      "/var/folders/27/0530x0cj0dxddcphfnj2g7y40000gn/T/ipykernel_37973/2563890893.py:2: FutureWarning: The default of observed=False is deprecated and will be changed to True in a future version of pandas. Pass observed=False to retain current behavior or observed=True to adopt the future default and silence this warning.\n",
      "  x = da.loc[:, ['SEQN','gender', 'smoker', 'agegrp']].groupby(['agegrp', 'gender', 'smoker'])['agegrp'].count()\n",
      "/var/folders/27/0530x0cj0dxddcphfnj2g7y40000gn/T/ipykernel_37973/2563890893.py:4: FutureWarning: The default of observed=False is deprecated and will be changed to True in a future version of pandas. Pass observed=False to retain current behavior or observed=True to adopt the future default and silence this warning.\n",
      "  x = x.groupby(level=[0, 1]).transform(lambda g: g / g.sum() * 100)\n"
     ]
    },
    {
     "data": {
      "text/html": [
       "<div>\n",
       "<style scoped>\n",
       "    .dataframe tbody tr th:only-of-type {\n",
       "        vertical-align: middle;\n",
       "    }\n",
       "\n",
       "    .dataframe tbody tr th {\n",
       "        vertical-align: top;\n",
       "    }\n",
       "\n",
       "    .dataframe thead th {\n",
       "        text-align: right;\n",
       "    }\n",
       "</style>\n",
       "<table border=\"1\" class=\"dataframe\">\n",
       "  <thead>\n",
       "    <tr style=\"text-align: right;\">\n",
       "      <th></th>\n",
       "      <th>agegrp</th>\n",
       "      <th>gender</th>\n",
       "      <th>smoker</th>\n",
       "      <th>shared-%</th>\n",
       "    </tr>\n",
       "  </thead>\n",
       "  <tbody>\n",
       "  </tbody>\n",
       "</table>\n",
       "</div>"
      ],
      "text/plain": [
       "Empty DataFrame\n",
       "Columns: [agegrp, gender, smoker, shared-%]\n",
       "Index: []"
      ]
     },
     "execution_count": 46,
     "metadata": {},
     "output_type": "execute_result"
    }
   ],
   "source": [
    "# x = da.loc[:, ['SEQN','RIAGENDRx', 'Smoked', 'agegrp']].groupby(['agegrp', 'RIAGENDRx', 'Smoked'])['agegrp'].count().reset_index(name='count')\n",
    "x = da.loc[:, ['SEQN','gender', 'smoker', 'agegrp']].groupby(['agegrp', 'gender', 'smoker'])['agegrp'].count()\n",
    "# x['share-%'] = x.groupby(['agegrp', 'RIAGENDRx'])['count'].transform(lambda g: g / g.sum() * 100)\n",
    "x = x.groupby(level=[0, 1]).transform(lambda g: g / g.sum() * 100)\n",
    "x.reset_index(name='shared-%').query('smoker == \"Yes\"').head(22)"
   ]
  },
  {
   "cell_type": "code",
   "execution_count": 47,
   "metadata": {},
   "outputs": [
    {
     "name": "stderr",
     "output_type": "stream",
     "text": [
      "/var/folders/27/0530x0cj0dxddcphfnj2g7y40000gn/T/ipykernel_37973/2436040342.py:2: FutureWarning: The default of observed=False is deprecated and will be changed to True in a future version of pandas. Pass observed=False to retain current behavior or observed=True to adopt the future default and silence this warning.\n",
      "  y = da.loc[:, ['SEQN','gender', 'smoker', 'agegrp']].groupby(['agegrp', 'smoker',  'gender'])['agegrp'].count()\n",
      "/var/folders/27/0530x0cj0dxddcphfnj2g7y40000gn/T/ipykernel_37973/2436040342.py:4: FutureWarning: The default of observed=False is deprecated and will be changed to True in a future version of pandas. Pass observed=False to retain current behavior or observed=True to adopt the future default and silence this warning.\n",
      "  y = y.groupby(level=[0, 1]).transform(lambda g: g / g.sum() * 100)\n"
     ]
    },
    {
     "data": {
      "text/html": [
       "<div>\n",
       "<style scoped>\n",
       "    .dataframe tbody tr th:only-of-type {\n",
       "        vertical-align: middle;\n",
       "    }\n",
       "\n",
       "    .dataframe tbody tr th {\n",
       "        vertical-align: top;\n",
       "    }\n",
       "\n",
       "    .dataframe thead th {\n",
       "        text-align: right;\n",
       "    }\n",
       "</style>\n",
       "<table border=\"1\" class=\"dataframe\">\n",
       "  <thead>\n",
       "    <tr style=\"text-align: right;\">\n",
       "      <th></th>\n",
       "      <th>agegrp</th>\n",
       "      <th>smoker</th>\n",
       "      <th>gender</th>\n",
       "      <th>shared-%</th>\n",
       "    </tr>\n",
       "  </thead>\n",
       "  <tbody>\n",
       "    <tr>\n",
       "      <th>2</th>\n",
       "      <td>(18, 30]</td>\n",
       "      <td>True</td>\n",
       "      <td>Female</td>\n",
       "      <td>43.750000</td>\n",
       "    </tr>\n",
       "    <tr>\n",
       "      <th>3</th>\n",
       "      <td>(18, 30]</td>\n",
       "      <td>True</td>\n",
       "      <td>Male</td>\n",
       "      <td>56.250000</td>\n",
       "    </tr>\n",
       "    <tr>\n",
       "      <th>6</th>\n",
       "      <td>(30, 40]</td>\n",
       "      <td>True</td>\n",
       "      <td>Female</td>\n",
       "      <td>37.974684</td>\n",
       "    </tr>\n",
       "    <tr>\n",
       "      <th>7</th>\n",
       "      <td>(30, 40]</td>\n",
       "      <td>True</td>\n",
       "      <td>Male</td>\n",
       "      <td>62.025316</td>\n",
       "    </tr>\n",
       "    <tr>\n",
       "      <th>10</th>\n",
       "      <td>(40, 50]</td>\n",
       "      <td>True</td>\n",
       "      <td>Female</td>\n",
       "      <td>43.109541</td>\n",
       "    </tr>\n",
       "    <tr>\n",
       "      <th>11</th>\n",
       "      <td>(40, 50]</td>\n",
       "      <td>True</td>\n",
       "      <td>Male</td>\n",
       "      <td>56.890459</td>\n",
       "    </tr>\n",
       "    <tr>\n",
       "      <th>14</th>\n",
       "      <td>(50, 60]</td>\n",
       "      <td>True</td>\n",
       "      <td>Female</td>\n",
       "      <td>44.334975</td>\n",
       "    </tr>\n",
       "    <tr>\n",
       "      <th>15</th>\n",
       "      <td>(50, 60]</td>\n",
       "      <td>True</td>\n",
       "      <td>Male</td>\n",
       "      <td>55.665025</td>\n",
       "    </tr>\n",
       "    <tr>\n",
       "      <th>18</th>\n",
       "      <td>(60, 70]</td>\n",
       "      <td>True</td>\n",
       "      <td>Female</td>\n",
       "      <td>36.220472</td>\n",
       "    </tr>\n",
       "    <tr>\n",
       "      <th>19</th>\n",
       "      <td>(60, 70]</td>\n",
       "      <td>True</td>\n",
       "      <td>Male</td>\n",
       "      <td>63.779528</td>\n",
       "    </tr>\n",
       "    <tr>\n",
       "      <th>22</th>\n",
       "      <td>(70, 80]</td>\n",
       "      <td>True</td>\n",
       "      <td>Female</td>\n",
       "      <td>30.272109</td>\n",
       "    </tr>\n",
       "    <tr>\n",
       "      <th>23</th>\n",
       "      <td>(70, 80]</td>\n",
       "      <td>True</td>\n",
       "      <td>Male</td>\n",
       "      <td>69.727891</td>\n",
       "    </tr>\n",
       "  </tbody>\n",
       "</table>\n",
       "</div>"
      ],
      "text/plain": [
       "      agegrp  smoker  gender   shared-%\n",
       "2   (18, 30]    True  Female  43.750000\n",
       "3   (18, 30]    True    Male  56.250000\n",
       "6   (30, 40]    True  Female  37.974684\n",
       "7   (30, 40]    True    Male  62.025316\n",
       "10  (40, 50]    True  Female  43.109541\n",
       "11  (40, 50]    True    Male  56.890459\n",
       "14  (50, 60]    True  Female  44.334975\n",
       "15  (50, 60]    True    Male  55.665025\n",
       "18  (60, 70]    True  Female  36.220472\n",
       "19  (60, 70]    True    Male  63.779528\n",
       "22  (70, 80]    True  Female  30.272109\n",
       "23  (70, 80]    True    Male  69.727891"
      ]
     },
     "execution_count": 47,
     "metadata": {},
     "output_type": "execute_result"
    }
   ],
   "source": [
    "# x = da.loc[:, ['SEQN','RIAGENDRx', 'Smoked', 'agegrp']].groupby(['agegrp', 'RIAGENDRx', 'Smoked'])['agegrp'].count().reset_index(name='count')\n",
    "y = da.loc[:, ['SEQN','gender', 'smoker', 'agegrp']].groupby(['agegrp', 'smoker',  'gender'])['agegrp'].count()\n",
    "# x['share-%'] = x.groupby(['agegrp', 'RIAGENDRx'])['count'].transform(lambda g: g / g.sum() * 100)\n",
    "y = y.groupby(level=[0, 1]).transform(lambda g: g / g.sum() * 100)\n",
    "y.reset_index(name='shared-%').query('smoker == True').head(22)"
   ]
  },
  {
   "cell_type": "code",
   "execution_count": 48,
   "metadata": {},
   "outputs": [
    {
     "data": {
      "text/plain": [
       "Text(0, 0.5, 'Systolic: Blood pressure mm Hg')"
      ]
     },
     "execution_count": 48,
     "metadata": {},
     "output_type": "execute_result"
    },
    {
     "data": {
      "image/png": "[encoded data removed]",
      "text/plain": [
       "<Figure size 1200x500 with 1 Axes>"
      ]
     },
     "metadata": {},
     "output_type": "display_data"
    }
   ],
   "source": [
    "plt.figure(figsize=(12, 5))\n",
    "sns.boxplot(x=\"agegrp\", y=\"BPXSY1\", hue=\"smoker\", data=da[female].query('smoker == True | smoker == False'))\n",
    "plt.xlabel('Females: Agegroup')\n",
    "plt.ylabel('Systolic: Blood pressure mm Hg')"
   ]
  },
  {
   "cell_type": "code",
   "execution_count": 49,
   "metadata": {},
   "outputs": [
    {
     "ename": "UndefinedVariableError",
     "evalue": "name 'Smoked' is not defined",
     "output_type": "error",
     "traceback": [
      "\u001b[0;31m---------------------------------------------------------------------------\u001b[0m",
      "\u001b[0;31mKeyError\u001b[0m                                  Traceback (most recent call last)",
      "File \u001b[0;32m~/anaconda3/envs/llm_tests/lib/python3.11/site-packages/pandas/core/computation/scope.py:231\u001b[0m, in \u001b[0;36mScope.resolve\u001b[0;34m(self, key, is_local)\u001b[0m\n\u001b[1;32m    230\u001b[0m \u001b[38;5;28;01mif\u001b[39;00m \u001b[38;5;28mself\u001b[39m\u001b[38;5;241m.\u001b[39mhas_resolvers:\n\u001b[0;32m--> 231\u001b[0m     \u001b[38;5;28;01mreturn\u001b[39;00m \u001b[38;5;28mself\u001b[39m\u001b[38;5;241m.\u001b[39mresolvers[key]\n\u001b[1;32m    233\u001b[0m \u001b[38;5;66;03m# if we're here that means that we have no locals and we also have\u001b[39;00m\n\u001b[1;32m    234\u001b[0m \u001b[38;5;66;03m# no resolvers\u001b[39;00m\n",
      "File \u001b[0;32m~/anaconda3/envs/llm_tests/lib/python3.11/collections/__init__.py:1006\u001b[0m, in \u001b[0;36mChainMap.__getitem__\u001b[0;34m(self, key)\u001b[0m\n\u001b[1;32m   1005\u001b[0m         \u001b[38;5;28;01mpass\u001b[39;00m\n\u001b[0;32m-> 1006\u001b[0m \u001b[38;5;28;01mreturn\u001b[39;00m \u001b[38;5;28mself\u001b[39m\u001b[38;5;241m.\u001b[39m\u001b[38;5;21m__missing__\u001b[39m(key)\n",
      "File \u001b[0;32m~/anaconda3/envs/llm_tests/lib/python3.11/collections/__init__.py:998\u001b[0m, in \u001b[0;36mChainMap.__missing__\u001b[0;34m(self, key)\u001b[0m\n\u001b[1;32m    997\u001b[0m \u001b[38;5;28;01mdef\u001b[39;00m \u001b[38;5;21m__missing__\u001b[39m(\u001b[38;5;28mself\u001b[39m, key):\n\u001b[0;32m--> 998\u001b[0m     \u001b[38;5;28;01mraise\u001b[39;00m \u001b[38;5;167;01mKeyError\u001b[39;00m(key)\n",
      "\u001b[0;31mKeyError\u001b[0m: 'Smoked'",
      "\nDuring handling of the above exception, another exception occurred:\n",
      "\u001b[0;31mKeyError\u001b[0m                                  Traceback (most recent call last)",
      "File \u001b[0;32m~/anaconda3/envs/llm_tests/lib/python3.11/site-packages/pandas/core/computation/scope.py:242\u001b[0m, in \u001b[0;36mScope.resolve\u001b[0;34m(self, key, is_local)\u001b[0m\n\u001b[1;32m    238\u001b[0m \u001b[38;5;28;01mtry\u001b[39;00m:\n\u001b[1;32m    239\u001b[0m     \u001b[38;5;66;03m# last ditch effort we look in temporaries\u001b[39;00m\n\u001b[1;32m    240\u001b[0m     \u001b[38;5;66;03m# these are created when parsing indexing expressions\u001b[39;00m\n\u001b[1;32m    241\u001b[0m     \u001b[38;5;66;03m# e.g., df[df > 0]\u001b[39;00m\n\u001b[0;32m--> 242\u001b[0m     \u001b[38;5;28;01mreturn\u001b[39;00m \u001b[38;5;28mself\u001b[39m\u001b[38;5;241m.\u001b[39mtemps[key]\n\u001b[1;32m    243\u001b[0m \u001b[38;5;28;01mexcept\u001b[39;00m \u001b[38;5;167;01mKeyError\u001b[39;00m \u001b[38;5;28;01mas\u001b[39;00m err:\n",
      "\u001b[0;31mKeyError\u001b[0m: 'Smoked'",
      "\nThe above exception was the direct cause of the following exception:\n",
      "\u001b[0;31mUndefinedVariableError\u001b[0m                    Traceback (most recent call last)",
      "Cell \u001b[0;32mIn[49], line 2\u001b[0m\n\u001b[1;32m      1\u001b[0m plt\u001b[38;5;241m.\u001b[39mfigure(figsize\u001b[38;5;241m=\u001b[39m(\u001b[38;5;241m12\u001b[39m, \u001b[38;5;241m5\u001b[39m))\n\u001b[0;32m----> 2\u001b[0m sns\u001b[38;5;241m.\u001b[39mboxplot(x\u001b[38;5;241m=\u001b[39m\u001b[38;5;124m\"\u001b[39m\u001b[38;5;124magegrp\u001b[39m\u001b[38;5;124m\"\u001b[39m, y\u001b[38;5;241m=\u001b[39m\u001b[38;5;124m\"\u001b[39m\u001b[38;5;124mBPXSY1\u001b[39m\u001b[38;5;124m\"\u001b[39m, hue\u001b[38;5;241m=\u001b[39m\u001b[38;5;124m\"\u001b[39m\u001b[38;5;124mSmoked\u001b[39m\u001b[38;5;124m\"\u001b[39m, data\u001b[38;5;241m=\u001b[39mda[male]\u001b[38;5;241m.\u001b[39mquery(\u001b[38;5;124m'\u001b[39m\u001b[38;5;124mSmoked == \u001b[39m\u001b[38;5;124m\"\u001b[39m\u001b[38;5;124mYes\u001b[39m\u001b[38;5;124m\"\u001b[39m\u001b[38;5;124m | Smoked == \u001b[39m\u001b[38;5;124m\"\u001b[39m\u001b[38;5;124mNo\u001b[39m\u001b[38;5;124m\"\u001b[39m\u001b[38;5;124m'\u001b[39m))\n\u001b[1;32m      3\u001b[0m plt\u001b[38;5;241m.\u001b[39mxlabel(\u001b[38;5;124m'\u001b[39m\u001b[38;5;124mMales: Agegroup\u001b[39m\u001b[38;5;124m'\u001b[39m)\n\u001b[1;32m      4\u001b[0m plt\u001b[38;5;241m.\u001b[39mylabel(\u001b[38;5;124m'\u001b[39m\u001b[38;5;124mSystolic: Blood pressure mm Hg\u001b[39m\u001b[38;5;124m'\u001b[39m)\n",
      "File \u001b[0;32m~/anaconda3/envs/llm_tests/lib/python3.11/site-packages/pandas/core/frame.py:4811\u001b[0m, in \u001b[0;36mDataFrame.query\u001b[0;34m(self, expr, inplace, **kwargs)\u001b[0m\n\u001b[1;32m   4809\u001b[0m kwargs[\u001b[38;5;124m\"\u001b[39m\u001b[38;5;124mlevel\u001b[39m\u001b[38;5;124m\"\u001b[39m] \u001b[38;5;241m=\u001b[39m kwargs\u001b[38;5;241m.\u001b[39mpop(\u001b[38;5;124m\"\u001b[39m\u001b[38;5;124mlevel\u001b[39m\u001b[38;5;124m\"\u001b[39m, \u001b[38;5;241m0\u001b[39m) \u001b[38;5;241m+\u001b[39m \u001b[38;5;241m1\u001b[39m\n\u001b[1;32m   4810\u001b[0m kwargs[\u001b[38;5;124m\"\u001b[39m\u001b[38;5;124mtarget\u001b[39m\u001b[38;5;124m\"\u001b[39m] \u001b[38;5;241m=\u001b[39m \u001b[38;5;28;01mNone\u001b[39;00m\n\u001b[0;32m-> 4811\u001b[0m res \u001b[38;5;241m=\u001b[39m \u001b[38;5;28mself\u001b[39m\u001b[38;5;241m.\u001b[39meval(expr, \u001b[38;5;241m*\u001b[39m\u001b[38;5;241m*\u001b[39mkwargs)\n\u001b[1;32m   4813\u001b[0m \u001b[38;5;28;01mtry\u001b[39;00m:\n\u001b[1;32m   4814\u001b[0m     result \u001b[38;5;241m=\u001b[39m \u001b[38;5;28mself\u001b[39m\u001b[38;5;241m.\u001b[39mloc[res]\n",
      "File \u001b[0;32m~/anaconda3/envs/llm_tests/lib/python3.11/site-packages/pandas/core/frame.py:4937\u001b[0m, in \u001b[0;36mDataFrame.eval\u001b[0;34m(self, expr, inplace, **kwargs)\u001b[0m\n\u001b[1;32m   4934\u001b[0m     kwargs[\u001b[38;5;124m\"\u001b[39m\u001b[38;5;124mtarget\u001b[39m\u001b[38;5;124m\"\u001b[39m] \u001b[38;5;241m=\u001b[39m \u001b[38;5;28mself\u001b[39m\n\u001b[1;32m   4935\u001b[0m kwargs[\u001b[38;5;124m\"\u001b[39m\u001b[38;5;124mresolvers\u001b[39m\u001b[38;5;124m\"\u001b[39m] \u001b[38;5;241m=\u001b[39m \u001b[38;5;28mtuple\u001b[39m(kwargs\u001b[38;5;241m.\u001b[39mget(\u001b[38;5;124m\"\u001b[39m\u001b[38;5;124mresolvers\u001b[39m\u001b[38;5;124m\"\u001b[39m, ())) \u001b[38;5;241m+\u001b[39m resolvers\n\u001b[0;32m-> 4937\u001b[0m \u001b[38;5;28;01mreturn\u001b[39;00m _eval(expr, inplace\u001b[38;5;241m=\u001b[39minplace, \u001b[38;5;241m*\u001b[39m\u001b[38;5;241m*\u001b[39mkwargs)\n",
      "File \u001b[0;32m~/anaconda3/envs/llm_tests/lib/python3.11/site-packages/pandas/core/computation/eval.py:336\u001b[0m, in \u001b[0;36meval\u001b[0;34m(expr, parser, engine, local_dict, global_dict, resolvers, level, target, inplace)\u001b[0m\n\u001b[1;32m    327\u001b[0m \u001b[38;5;66;03m# get our (possibly passed-in) scope\u001b[39;00m\n\u001b[1;32m    328\u001b[0m env \u001b[38;5;241m=\u001b[39m ensure_scope(\n\u001b[1;32m    329\u001b[0m     level \u001b[38;5;241m+\u001b[39m \u001b[38;5;241m1\u001b[39m,\n\u001b[1;32m    330\u001b[0m     global_dict\u001b[38;5;241m=\u001b[39mglobal_dict,\n\u001b[0;32m   (...)\u001b[0m\n\u001b[1;32m    333\u001b[0m     target\u001b[38;5;241m=\u001b[39mtarget,\n\u001b[1;32m    334\u001b[0m )\n\u001b[0;32m--> 336\u001b[0m parsed_expr \u001b[38;5;241m=\u001b[39m Expr(expr, engine\u001b[38;5;241m=\u001b[39mengine, parser\u001b[38;5;241m=\u001b[39mparser, env\u001b[38;5;241m=\u001b[39menv)\n\u001b[1;32m    338\u001b[0m \u001b[38;5;28;01mif\u001b[39;00m engine \u001b[38;5;241m==\u001b[39m \u001b[38;5;124m\"\u001b[39m\u001b[38;5;124mnumexpr\u001b[39m\u001b[38;5;124m\"\u001b[39m \u001b[38;5;129;01mand\u001b[39;00m (\n\u001b[1;32m    339\u001b[0m     is_extension_array_dtype(parsed_expr\u001b[38;5;241m.\u001b[39mterms\u001b[38;5;241m.\u001b[39mreturn_type)\n\u001b[1;32m    340\u001b[0m     \u001b[38;5;129;01mor\u001b[39;00m \u001b[38;5;28mgetattr\u001b[39m(parsed_expr\u001b[38;5;241m.\u001b[39mterms, \u001b[38;5;124m\"\u001b[39m\u001b[38;5;124moperand_types\u001b[39m\u001b[38;5;124m\"\u001b[39m, \u001b[38;5;28;01mNone\u001b[39;00m) \u001b[38;5;129;01mis\u001b[39;00m \u001b[38;5;129;01mnot\u001b[39;00m \u001b[38;5;28;01mNone\u001b[39;00m\n\u001b[0;32m   (...)\u001b[0m\n\u001b[1;32m    344\u001b[0m     )\n\u001b[1;32m    345\u001b[0m ):\n\u001b[1;32m    346\u001b[0m     warnings\u001b[38;5;241m.\u001b[39mwarn(\n\u001b[1;32m    347\u001b[0m         \u001b[38;5;124m\"\u001b[39m\u001b[38;5;124mEngine has switched to \u001b[39m\u001b[38;5;124m'\u001b[39m\u001b[38;5;124mpython\u001b[39m\u001b[38;5;124m'\u001b[39m\u001b[38;5;124m because numexpr does not support \u001b[39m\u001b[38;5;124m\"\u001b[39m\n\u001b[1;32m    348\u001b[0m         \u001b[38;5;124m\"\u001b[39m\u001b[38;5;124mextension array dtypes. Please set your engine to python manually.\u001b[39m\u001b[38;5;124m\"\u001b[39m,\n\u001b[1;32m    349\u001b[0m         \u001b[38;5;167;01mRuntimeWarning\u001b[39;00m,\n\u001b[1;32m    350\u001b[0m         stacklevel\u001b[38;5;241m=\u001b[39mfind_stack_level(),\n\u001b[1;32m    351\u001b[0m     )\n",
      "File \u001b[0;32m~/anaconda3/envs/llm_tests/lib/python3.11/site-packages/pandas/core/computation/expr.py:809\u001b[0m, in \u001b[0;36mExpr.__init__\u001b[0;34m(self, expr, engine, parser, env, level)\u001b[0m\n\u001b[1;32m    807\u001b[0m \u001b[38;5;28mself\u001b[39m\u001b[38;5;241m.\u001b[39mparser \u001b[38;5;241m=\u001b[39m parser\n\u001b[1;32m    808\u001b[0m \u001b[38;5;28mself\u001b[39m\u001b[38;5;241m.\u001b[39m_visitor \u001b[38;5;241m=\u001b[39m PARSERS[parser](\u001b[38;5;28mself\u001b[39m\u001b[38;5;241m.\u001b[39menv, \u001b[38;5;28mself\u001b[39m\u001b[38;5;241m.\u001b[39mengine, \u001b[38;5;28mself\u001b[39m\u001b[38;5;241m.\u001b[39mparser)\n\u001b[0;32m--> 809\u001b[0m \u001b[38;5;28mself\u001b[39m\u001b[38;5;241m.\u001b[39mterms \u001b[38;5;241m=\u001b[39m \u001b[38;5;28mself\u001b[39m\u001b[38;5;241m.\u001b[39mparse()\n",
      "File \u001b[0;32m~/anaconda3/envs/llm_tests/lib/python3.11/site-packages/pandas/core/computation/expr.py:828\u001b[0m, in \u001b[0;36mExpr.parse\u001b[0;34m(self)\u001b[0m\n\u001b[1;32m    824\u001b[0m \u001b[38;5;28;01mdef\u001b[39;00m \u001b[38;5;21mparse\u001b[39m(\u001b[38;5;28mself\u001b[39m):\n\u001b[1;32m    825\u001b[0m \u001b[38;5;250m    \u001b[39m\u001b[38;5;124;03m\"\"\"\u001b[39;00m\n\u001b[1;32m    826\u001b[0m \u001b[38;5;124;03m    Parse an expression.\u001b[39;00m\n\u001b[1;32m    827\u001b[0m \u001b[38;5;124;03m    \"\"\"\u001b[39;00m\n\u001b[0;32m--> 828\u001b[0m     \u001b[38;5;28;01mreturn\u001b[39;00m \u001b[38;5;28mself\u001b[39m\u001b[38;5;241m.\u001b[39m_visitor\u001b[38;5;241m.\u001b[39mvisit(\u001b[38;5;28mself\u001b[39m\u001b[38;5;241m.\u001b[39mexpr)\n",
      "File \u001b[0;32m~/anaconda3/envs/llm_tests/lib/python3.11/site-packages/pandas/core/computation/expr.py:412\u001b[0m, in \u001b[0;36mBaseExprVisitor.visit\u001b[0;34m(self, node, **kwargs)\u001b[0m\n\u001b[1;32m    410\u001b[0m method \u001b[38;5;241m=\u001b[39m \u001b[38;5;124mf\u001b[39m\u001b[38;5;124m\"\u001b[39m\u001b[38;5;124mvisit_\u001b[39m\u001b[38;5;132;01m{\u001b[39;00m\u001b[38;5;28mtype\u001b[39m(node)\u001b[38;5;241m.\u001b[39m\u001b[38;5;18m__name__\u001b[39m\u001b[38;5;132;01m}\u001b[39;00m\u001b[38;5;124m\"\u001b[39m\n\u001b[1;32m    411\u001b[0m visitor \u001b[38;5;241m=\u001b[39m \u001b[38;5;28mgetattr\u001b[39m(\u001b[38;5;28mself\u001b[39m, method)\n\u001b[0;32m--> 412\u001b[0m \u001b[38;5;28;01mreturn\u001b[39;00m visitor(node, \u001b[38;5;241m*\u001b[39m\u001b[38;5;241m*\u001b[39mkwargs)\n",
      "File \u001b[0;32m~/anaconda3/envs/llm_tests/lib/python3.11/site-packages/pandas/core/computation/expr.py:418\u001b[0m, in \u001b[0;36mBaseExprVisitor.visit_Module\u001b[0;34m(self, node, **kwargs)\u001b[0m\n\u001b[1;32m    416\u001b[0m     \u001b[38;5;28;01mraise\u001b[39;00m \u001b[38;5;167;01mSyntaxError\u001b[39;00m(\u001b[38;5;124m\"\u001b[39m\u001b[38;5;124monly a single expression is allowed\u001b[39m\u001b[38;5;124m\"\u001b[39m)\n\u001b[1;32m    417\u001b[0m expr \u001b[38;5;241m=\u001b[39m node\u001b[38;5;241m.\u001b[39mbody[\u001b[38;5;241m0\u001b[39m]\n\u001b[0;32m--> 418\u001b[0m \u001b[38;5;28;01mreturn\u001b[39;00m \u001b[38;5;28mself\u001b[39m\u001b[38;5;241m.\u001b[39mvisit(expr, \u001b[38;5;241m*\u001b[39m\u001b[38;5;241m*\u001b[39mkwargs)\n",
      "File \u001b[0;32m~/anaconda3/envs/llm_tests/lib/python3.11/site-packages/pandas/core/computation/expr.py:412\u001b[0m, in \u001b[0;36mBaseExprVisitor.visit\u001b[0;34m(self, node, **kwargs)\u001b[0m\n\u001b[1;32m    410\u001b[0m method \u001b[38;5;241m=\u001b[39m \u001b[38;5;124mf\u001b[39m\u001b[38;5;124m\"\u001b[39m\u001b[38;5;124mvisit_\u001b[39m\u001b[38;5;132;01m{\u001b[39;00m\u001b[38;5;28mtype\u001b[39m(node)\u001b[38;5;241m.\u001b[39m\u001b[38;5;18m__name__\u001b[39m\u001b[38;5;132;01m}\u001b[39;00m\u001b[38;5;124m\"\u001b[39m\n\u001b[1;32m    411\u001b[0m visitor \u001b[38;5;241m=\u001b[39m \u001b[38;5;28mgetattr\u001b[39m(\u001b[38;5;28mself\u001b[39m, method)\n\u001b[0;32m--> 412\u001b[0m \u001b[38;5;28;01mreturn\u001b[39;00m visitor(node, \u001b[38;5;241m*\u001b[39m\u001b[38;5;241m*\u001b[39mkwargs)\n",
      "File \u001b[0;32m~/anaconda3/envs/llm_tests/lib/python3.11/site-packages/pandas/core/computation/expr.py:421\u001b[0m, in \u001b[0;36mBaseExprVisitor.visit_Expr\u001b[0;34m(self, node, **kwargs)\u001b[0m\n\u001b[1;32m    420\u001b[0m \u001b[38;5;28;01mdef\u001b[39;00m \u001b[38;5;21mvisit_Expr\u001b[39m(\u001b[38;5;28mself\u001b[39m, node, \u001b[38;5;241m*\u001b[39m\u001b[38;5;241m*\u001b[39mkwargs):\n\u001b[0;32m--> 421\u001b[0m     \u001b[38;5;28;01mreturn\u001b[39;00m \u001b[38;5;28mself\u001b[39m\u001b[38;5;241m.\u001b[39mvisit(node\u001b[38;5;241m.\u001b[39mvalue, \u001b[38;5;241m*\u001b[39m\u001b[38;5;241m*\u001b[39mkwargs)\n",
      "File \u001b[0;32m~/anaconda3/envs/llm_tests/lib/python3.11/site-packages/pandas/core/computation/expr.py:412\u001b[0m, in \u001b[0;36mBaseExprVisitor.visit\u001b[0;34m(self, node, **kwargs)\u001b[0m\n\u001b[1;32m    410\u001b[0m method \u001b[38;5;241m=\u001b[39m \u001b[38;5;124mf\u001b[39m\u001b[38;5;124m\"\u001b[39m\u001b[38;5;124mvisit_\u001b[39m\u001b[38;5;132;01m{\u001b[39;00m\u001b[38;5;28mtype\u001b[39m(node)\u001b[38;5;241m.\u001b[39m\u001b[38;5;18m__name__\u001b[39m\u001b[38;5;132;01m}\u001b[39;00m\u001b[38;5;124m\"\u001b[39m\n\u001b[1;32m    411\u001b[0m visitor \u001b[38;5;241m=\u001b[39m \u001b[38;5;28mgetattr\u001b[39m(\u001b[38;5;28mself\u001b[39m, method)\n\u001b[0;32m--> 412\u001b[0m \u001b[38;5;28;01mreturn\u001b[39;00m visitor(node, \u001b[38;5;241m*\u001b[39m\u001b[38;5;241m*\u001b[39mkwargs)\n",
      "File \u001b[0;32m~/anaconda3/envs/llm_tests/lib/python3.11/site-packages/pandas/core/computation/expr.py:746\u001b[0m, in \u001b[0;36mBaseExprVisitor.visit_BoolOp\u001b[0;34m(self, node, **kwargs)\u001b[0m\n\u001b[1;32m    743\u001b[0m     \u001b[38;5;28;01mreturn\u001b[39;00m \u001b[38;5;28mself\u001b[39m\u001b[38;5;241m.\u001b[39m_maybe_evaluate_binop(op, node\u001b[38;5;241m.\u001b[39mop, lhs, rhs)\n\u001b[1;32m    745\u001b[0m operands \u001b[38;5;241m=\u001b[39m node\u001b[38;5;241m.\u001b[39mvalues\n\u001b[0;32m--> 746\u001b[0m \u001b[38;5;28;01mreturn\u001b[39;00m reduce(visitor, operands)\n",
      "File \u001b[0;32m~/anaconda3/envs/llm_tests/lib/python3.11/site-packages/pandas/core/computation/expr.py:739\u001b[0m, in \u001b[0;36mBaseExprVisitor.visit_BoolOp.<locals>.visitor\u001b[0;34m(x, y)\u001b[0m\n\u001b[1;32m    738\u001b[0m \u001b[38;5;28;01mdef\u001b[39;00m \u001b[38;5;21mvisitor\u001b[39m(x, y):\n\u001b[0;32m--> 739\u001b[0m     lhs \u001b[38;5;241m=\u001b[39m \u001b[38;5;28mself\u001b[39m\u001b[38;5;241m.\u001b[39m_try_visit_binop(x)\n\u001b[1;32m    740\u001b[0m     rhs \u001b[38;5;241m=\u001b[39m \u001b[38;5;28mself\u001b[39m\u001b[38;5;241m.\u001b[39m_try_visit_binop(y)\n\u001b[1;32m    742\u001b[0m     op, op_class, lhs, rhs \u001b[38;5;241m=\u001b[39m \u001b[38;5;28mself\u001b[39m\u001b[38;5;241m.\u001b[39m_maybe_transform_eq_ne(node, lhs, rhs)\n",
      "File \u001b[0;32m~/anaconda3/envs/llm_tests/lib/python3.11/site-packages/pandas/core/computation/expr.py:735\u001b[0m, in \u001b[0;36mBaseExprVisitor._try_visit_binop\u001b[0;34m(self, bop)\u001b[0m\n\u001b[1;32m    733\u001b[0m \u001b[38;5;28;01mif\u001b[39;00m \u001b[38;5;28misinstance\u001b[39m(bop, (Op, Term)):\n\u001b[1;32m    734\u001b[0m     \u001b[38;5;28;01mreturn\u001b[39;00m bop\n\u001b[0;32m--> 735\u001b[0m \u001b[38;5;28;01mreturn\u001b[39;00m \u001b[38;5;28mself\u001b[39m\u001b[38;5;241m.\u001b[39mvisit(bop)\n",
      "File \u001b[0;32m~/anaconda3/envs/llm_tests/lib/python3.11/site-packages/pandas/core/computation/expr.py:412\u001b[0m, in \u001b[0;36mBaseExprVisitor.visit\u001b[0;34m(self, node, **kwargs)\u001b[0m\n\u001b[1;32m    410\u001b[0m method \u001b[38;5;241m=\u001b[39m \u001b[38;5;124mf\u001b[39m\u001b[38;5;124m\"\u001b[39m\u001b[38;5;124mvisit_\u001b[39m\u001b[38;5;132;01m{\u001b[39;00m\u001b[38;5;28mtype\u001b[39m(node)\u001b[38;5;241m.\u001b[39m\u001b[38;5;18m__name__\u001b[39m\u001b[38;5;132;01m}\u001b[39;00m\u001b[38;5;124m\"\u001b[39m\n\u001b[1;32m    411\u001b[0m visitor \u001b[38;5;241m=\u001b[39m \u001b[38;5;28mgetattr\u001b[39m(\u001b[38;5;28mself\u001b[39m, method)\n\u001b[0;32m--> 412\u001b[0m \u001b[38;5;28;01mreturn\u001b[39;00m visitor(node, \u001b[38;5;241m*\u001b[39m\u001b[38;5;241m*\u001b[39mkwargs)\n",
      "File \u001b[0;32m~/anaconda3/envs/llm_tests/lib/python3.11/site-packages/pandas/core/computation/expr.py:719\u001b[0m, in \u001b[0;36mBaseExprVisitor.visit_Compare\u001b[0;34m(self, node, **kwargs)\u001b[0m\n\u001b[1;32m    717\u001b[0m     op \u001b[38;5;241m=\u001b[39m \u001b[38;5;28mself\u001b[39m\u001b[38;5;241m.\u001b[39mtranslate_In(ops[\u001b[38;5;241m0\u001b[39m])\n\u001b[1;32m    718\u001b[0m     binop \u001b[38;5;241m=\u001b[39m ast\u001b[38;5;241m.\u001b[39mBinOp(op\u001b[38;5;241m=\u001b[39mop, left\u001b[38;5;241m=\u001b[39mnode\u001b[38;5;241m.\u001b[39mleft, right\u001b[38;5;241m=\u001b[39mcomps[\u001b[38;5;241m0\u001b[39m])\n\u001b[0;32m--> 719\u001b[0m     \u001b[38;5;28;01mreturn\u001b[39;00m \u001b[38;5;28mself\u001b[39m\u001b[38;5;241m.\u001b[39mvisit(binop)\n\u001b[1;32m    721\u001b[0m \u001b[38;5;66;03m# recursive case: we have a chained comparison, a CMP b CMP c, etc.\u001b[39;00m\n\u001b[1;32m    722\u001b[0m left \u001b[38;5;241m=\u001b[39m node\u001b[38;5;241m.\u001b[39mleft\n",
      "File \u001b[0;32m~/anaconda3/envs/llm_tests/lib/python3.11/site-packages/pandas/core/computation/expr.py:412\u001b[0m, in \u001b[0;36mBaseExprVisitor.visit\u001b[0;34m(self, node, **kwargs)\u001b[0m\n\u001b[1;32m    410\u001b[0m method \u001b[38;5;241m=\u001b[39m \u001b[38;5;124mf\u001b[39m\u001b[38;5;124m\"\u001b[39m\u001b[38;5;124mvisit_\u001b[39m\u001b[38;5;132;01m{\u001b[39;00m\u001b[38;5;28mtype\u001b[39m(node)\u001b[38;5;241m.\u001b[39m\u001b[38;5;18m__name__\u001b[39m\u001b[38;5;132;01m}\u001b[39;00m\u001b[38;5;124m\"\u001b[39m\n\u001b[1;32m    411\u001b[0m visitor \u001b[38;5;241m=\u001b[39m \u001b[38;5;28mgetattr\u001b[39m(\u001b[38;5;28mself\u001b[39m, method)\n\u001b[0;32m--> 412\u001b[0m \u001b[38;5;28;01mreturn\u001b[39;00m visitor(node, \u001b[38;5;241m*\u001b[39m\u001b[38;5;241m*\u001b[39mkwargs)\n",
      "File \u001b[0;32m~/anaconda3/envs/llm_tests/lib/python3.11/site-packages/pandas/core/computation/expr.py:532\u001b[0m, in \u001b[0;36mBaseExprVisitor.visit_BinOp\u001b[0;34m(self, node, **kwargs)\u001b[0m\n\u001b[1;32m    531\u001b[0m \u001b[38;5;28;01mdef\u001b[39;00m \u001b[38;5;21mvisit_BinOp\u001b[39m(\u001b[38;5;28mself\u001b[39m, node, \u001b[38;5;241m*\u001b[39m\u001b[38;5;241m*\u001b[39mkwargs):\n\u001b[0;32m--> 532\u001b[0m     op, op_class, left, right \u001b[38;5;241m=\u001b[39m \u001b[38;5;28mself\u001b[39m\u001b[38;5;241m.\u001b[39m_maybe_transform_eq_ne(node)\n\u001b[1;32m    533\u001b[0m     left, right \u001b[38;5;241m=\u001b[39m \u001b[38;5;28mself\u001b[39m\u001b[38;5;241m.\u001b[39m_maybe_downcast_constants(left, right)\n\u001b[1;32m    534\u001b[0m     \u001b[38;5;28;01mreturn\u001b[39;00m \u001b[38;5;28mself\u001b[39m\u001b[38;5;241m.\u001b[39m_maybe_evaluate_binop(op, op_class, left, right)\n",
      "File \u001b[0;32m~/anaconda3/envs/llm_tests/lib/python3.11/site-packages/pandas/core/computation/expr.py:452\u001b[0m, in \u001b[0;36mBaseExprVisitor._maybe_transform_eq_ne\u001b[0;34m(self, node, left, right)\u001b[0m\n\u001b[1;32m    450\u001b[0m \u001b[38;5;28;01mdef\u001b[39;00m \u001b[38;5;21m_maybe_transform_eq_ne\u001b[39m(\u001b[38;5;28mself\u001b[39m, node, left\u001b[38;5;241m=\u001b[39m\u001b[38;5;28;01mNone\u001b[39;00m, right\u001b[38;5;241m=\u001b[39m\u001b[38;5;28;01mNone\u001b[39;00m):\n\u001b[1;32m    451\u001b[0m     \u001b[38;5;28;01mif\u001b[39;00m left \u001b[38;5;129;01mis\u001b[39;00m \u001b[38;5;28;01mNone\u001b[39;00m:\n\u001b[0;32m--> 452\u001b[0m         left \u001b[38;5;241m=\u001b[39m \u001b[38;5;28mself\u001b[39m\u001b[38;5;241m.\u001b[39mvisit(node\u001b[38;5;241m.\u001b[39mleft, side\u001b[38;5;241m=\u001b[39m\u001b[38;5;124m\"\u001b[39m\u001b[38;5;124mleft\u001b[39m\u001b[38;5;124m\"\u001b[39m)\n\u001b[1;32m    453\u001b[0m     \u001b[38;5;28;01mif\u001b[39;00m right \u001b[38;5;129;01mis\u001b[39;00m \u001b[38;5;28;01mNone\u001b[39;00m:\n\u001b[1;32m    454\u001b[0m         right \u001b[38;5;241m=\u001b[39m \u001b[38;5;28mself\u001b[39m\u001b[38;5;241m.\u001b[39mvisit(node\u001b[38;5;241m.\u001b[39mright, side\u001b[38;5;241m=\u001b[39m\u001b[38;5;124m\"\u001b[39m\u001b[38;5;124mright\u001b[39m\u001b[38;5;124m\"\u001b[39m)\n",
      "File \u001b[0;32m~/anaconda3/envs/llm_tests/lib/python3.11/site-packages/pandas/core/computation/expr.py:412\u001b[0m, in \u001b[0;36mBaseExprVisitor.visit\u001b[0;34m(self, node, **kwargs)\u001b[0m\n\u001b[1;32m    410\u001b[0m method \u001b[38;5;241m=\u001b[39m \u001b[38;5;124mf\u001b[39m\u001b[38;5;124m\"\u001b[39m\u001b[38;5;124mvisit_\u001b[39m\u001b[38;5;132;01m{\u001b[39;00m\u001b[38;5;28mtype\u001b[39m(node)\u001b[38;5;241m.\u001b[39m\u001b[38;5;18m__name__\u001b[39m\u001b[38;5;132;01m}\u001b[39;00m\u001b[38;5;124m\"\u001b[39m\n\u001b[1;32m    411\u001b[0m visitor \u001b[38;5;241m=\u001b[39m \u001b[38;5;28mgetattr\u001b[39m(\u001b[38;5;28mself\u001b[39m, method)\n\u001b[0;32m--> 412\u001b[0m \u001b[38;5;28;01mreturn\u001b[39;00m visitor(node, \u001b[38;5;241m*\u001b[39m\u001b[38;5;241m*\u001b[39mkwargs)\n",
      "File \u001b[0;32m~/anaconda3/envs/llm_tests/lib/python3.11/site-packages/pandas/core/computation/expr.py:545\u001b[0m, in \u001b[0;36mBaseExprVisitor.visit_Name\u001b[0;34m(self, node, **kwargs)\u001b[0m\n\u001b[1;32m    544\u001b[0m \u001b[38;5;28;01mdef\u001b[39;00m \u001b[38;5;21mvisit_Name\u001b[39m(\u001b[38;5;28mself\u001b[39m, node, \u001b[38;5;241m*\u001b[39m\u001b[38;5;241m*\u001b[39mkwargs) \u001b[38;5;241m-\u001b[39m\u001b[38;5;241m>\u001b[39m Term:\n\u001b[0;32m--> 545\u001b[0m     \u001b[38;5;28;01mreturn\u001b[39;00m \u001b[38;5;28mself\u001b[39m\u001b[38;5;241m.\u001b[39mterm_type(node\u001b[38;5;241m.\u001b[39mid, \u001b[38;5;28mself\u001b[39m\u001b[38;5;241m.\u001b[39menv, \u001b[38;5;241m*\u001b[39m\u001b[38;5;241m*\u001b[39mkwargs)\n",
      "File \u001b[0;32m~/anaconda3/envs/llm_tests/lib/python3.11/site-packages/pandas/core/computation/ops.py:91\u001b[0m, in \u001b[0;36mTerm.__init__\u001b[0;34m(self, name, env, side, encoding)\u001b[0m\n\u001b[1;32m     89\u001b[0m tname \u001b[38;5;241m=\u001b[39m \u001b[38;5;28mstr\u001b[39m(name)\n\u001b[1;32m     90\u001b[0m \u001b[38;5;28mself\u001b[39m\u001b[38;5;241m.\u001b[39mis_local \u001b[38;5;241m=\u001b[39m tname\u001b[38;5;241m.\u001b[39mstartswith(LOCAL_TAG) \u001b[38;5;129;01mor\u001b[39;00m tname \u001b[38;5;129;01min\u001b[39;00m DEFAULT_GLOBALS\n\u001b[0;32m---> 91\u001b[0m \u001b[38;5;28mself\u001b[39m\u001b[38;5;241m.\u001b[39m_value \u001b[38;5;241m=\u001b[39m \u001b[38;5;28mself\u001b[39m\u001b[38;5;241m.\u001b[39m_resolve_name()\n\u001b[1;32m     92\u001b[0m \u001b[38;5;28mself\u001b[39m\u001b[38;5;241m.\u001b[39mencoding \u001b[38;5;241m=\u001b[39m encoding\n",
      "File \u001b[0;32m~/anaconda3/envs/llm_tests/lib/python3.11/site-packages/pandas/core/computation/ops.py:115\u001b[0m, in \u001b[0;36mTerm._resolve_name\u001b[0;34m(self)\u001b[0m\n\u001b[1;32m    110\u001b[0m \u001b[38;5;28;01mif\u001b[39;00m local_name \u001b[38;5;129;01min\u001b[39;00m \u001b[38;5;28mself\u001b[39m\u001b[38;5;241m.\u001b[39menv\u001b[38;5;241m.\u001b[39mscope \u001b[38;5;129;01mand\u001b[39;00m \u001b[38;5;28misinstance\u001b[39m(\n\u001b[1;32m    111\u001b[0m     \u001b[38;5;28mself\u001b[39m\u001b[38;5;241m.\u001b[39menv\u001b[38;5;241m.\u001b[39mscope[local_name], \u001b[38;5;28mtype\u001b[39m\n\u001b[1;32m    112\u001b[0m ):\n\u001b[1;32m    113\u001b[0m     is_local \u001b[38;5;241m=\u001b[39m \u001b[38;5;28;01mFalse\u001b[39;00m\n\u001b[0;32m--> 115\u001b[0m res \u001b[38;5;241m=\u001b[39m \u001b[38;5;28mself\u001b[39m\u001b[38;5;241m.\u001b[39menv\u001b[38;5;241m.\u001b[39mresolve(local_name, is_local\u001b[38;5;241m=\u001b[39mis_local)\n\u001b[1;32m    116\u001b[0m \u001b[38;5;28mself\u001b[39m\u001b[38;5;241m.\u001b[39mupdate(res)\n\u001b[1;32m    118\u001b[0m \u001b[38;5;28;01mif\u001b[39;00m \u001b[38;5;28mhasattr\u001b[39m(res, \u001b[38;5;124m\"\u001b[39m\u001b[38;5;124mndim\u001b[39m\u001b[38;5;124m\"\u001b[39m) \u001b[38;5;129;01mand\u001b[39;00m res\u001b[38;5;241m.\u001b[39mndim \u001b[38;5;241m>\u001b[39m \u001b[38;5;241m2\u001b[39m:\n",
      "File \u001b[0;32m~/anaconda3/envs/llm_tests/lib/python3.11/site-packages/pandas/core/computation/scope.py:244\u001b[0m, in \u001b[0;36mScope.resolve\u001b[0;34m(self, key, is_local)\u001b[0m\n\u001b[1;32m    242\u001b[0m     \u001b[38;5;28;01mreturn\u001b[39;00m \u001b[38;5;28mself\u001b[39m\u001b[38;5;241m.\u001b[39mtemps[key]\n\u001b[1;32m    243\u001b[0m \u001b[38;5;28;01mexcept\u001b[39;00m \u001b[38;5;167;01mKeyError\u001b[39;00m \u001b[38;5;28;01mas\u001b[39;00m err:\n\u001b[0;32m--> 244\u001b[0m     \u001b[38;5;28;01mraise\u001b[39;00m UndefinedVariableError(key, is_local) \u001b[38;5;28;01mfrom\u001b[39;00m \u001b[38;5;21;01merr\u001b[39;00m\n",
      "\u001b[0;31mUndefinedVariableError\u001b[0m: name 'Smoked' is not defined"
     ]
    },
    {
     "data": {
      "text/plain": [
       "<Figure size 1200x500 with 0 Axes>"
      ]
     },
     "metadata": {},
     "output_type": "display_data"
    }
   ],
   "source": [
    "plt.figure(figsize=(12, 5))\n",
    "sns.boxplot(x=\"agegrp\", y=\"BPXSY1\", hue=\"Smoked\", data=da[male].query('Smoked == \"Yes\" | Smoked == \"No\"'))\n",
    "plt.xlabel('Males: Agegroup')\n",
    "plt.ylabel('Systolic: Blood pressure mm Hg')"
   ]
  },
  {
   "cell_type": "code",
   "execution_count": null,
   "metadata": {},
   "outputs": [],
   "source": [
    "# Create Scatterplot with custom hue colors\n",
    "sns.scatterplot(x='BMXBMI', y='BPXSY1', hue='SMQ020', data=da.query('SMQ020 == 1 | SMQ020 == 2'), palette={1: 'orange', 2: 'blue'})\n"
   ]
  },
  {
   "cell_type": "markdown",
   "metadata": {},
   "source": [
    "# Predictive analysis"
   ]
  },
  {
   "cell_type": "code",
   "execution_count": null,
   "metadata": {},
   "outputs": [],
   "source": [
    "# Define the conditions for the 'estimate' column\n",
    "df['estimate'] = np.where((df['smoker'] == True) & (df['overweight'] == True) & (df['alcoprob'] == True), True, False)\n",
    "\n",
    "# Calculate true positives, true negatives, false positives, and false negatives\n",
    "true_positives = ((df['estimate'] == True) & (df['elevated_bloodpr'] == True)).sum()\n",
    "true_negatives = ((df['estimate'] == False) & (df['elevated_bloodpr'] == False)).sum()\n",
    "false_positives = ((df['estimate'] == True) & (df['elevated_bloodpr'] == False)).sum()\n",
    "false_negatives = ((df['estimate'] == False) & (df['elevated_bloodpr'] == True)).sum()\n",
    "\n",
    "print(f'True Positives: {true_positives}')\n",
    "print(f'True Negatives: {true_negatives}')\n",
    "print(f'False Positives: {false_positives}')\n",
    "print(f'False Negatives: {false_negatives}')"
   ]
  },
  {
   "cell_type": "code",
   "execution_count": null,
   "metadata": {},
   "outputs": [],
   "source": [
    "# Define the conditions for the 'estimate' column\n",
    "df['estimate'] = np.where(\n",
    "    ((df['smoker'] == True).astype(int) + \n",
    "     (df['overweight'] == True).astype(int) + \n",
    "     (df['lonely'] == True).astype(int) + \n",
    "     (df['target_group'] == True).astype(int) + \n",
    "     (df['poor'] == True).astype(int) + \n",
    "     (df['alcoprob'] == True).astype(int)) >= 4, \n",
    "    True, \n",
    "    False\n",
    ")\n",
    "\n",
    "# \"smoker\", \"overweight\", \"alcoprob\", \"poor\", \"lonely\", \"target_group\n",
    "\n",
    "# Calculate true positives, true negatives, false positives, and false negatives\n",
    "true_positives = ((df['estimate'] == True) & (df['elevated_bloodpr'] == True)).sum()\n",
    "true_negatives = ((df['estimate'] == False) & (df['elevated_bloodpr'] == False)).sum()\n",
    "false_positives = ((df['estimate'] == True) & (df['elevated_bloodpr'] == False)).sum()\n",
    "false_negatives = ((df['estimate'] == False) & (df['elevated_bloodpr'] == True)).sum()\n",
    "\n",
    "print(f'True Positives: {true_positives}')\n",
    "print(f'True Negatives: {true_negatives}')\n",
    "print(f'False Positives: {false_positives}')\n",
    "print(f'False Negatives: {false_negatives}')"
   ]
  },
  {
   "cell_type": "code",
   "execution_count": null,
   "metadata": {},
   "outputs": [],
   "source": []
  }
 ],
 "metadata": {
  "kernelspec": {
   "display_name": "llm_tests",
   "language": "python",
   "name": "python3"
  },
  "language_info": {
   "codemirror_mode": {
    "name": "ipython",
    "version": 3
   },
   "file_extension": ".py",
   "mimetype": "text/x-python",
   "name": "python",
   "nbconvert_exporter": "python",
   "pygments_lexer": "ipython3",
   "version": "3.11.9"
  }
 },
 "nbformat": 4,
 "nbformat_minor": 2
}
